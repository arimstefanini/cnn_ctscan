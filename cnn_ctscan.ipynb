{
  "nbformat": 4,
  "nbformat_minor": 0,
  "metadata": {
    "colab": {
      "name": "Cancer.ipynb",
      "provenance": [],
      "collapsed_sections": []
    },
    "kernelspec": {
      "display_name": "Python 3",
      "language": "python",
      "name": "python3"
    },
    "language_info": {
      "codemirror_mode": {
        "name": "ipython",
        "version": 3
      },
      "file_extension": ".py",
      "mimetype": "text/x-python",
      "name": "python",
      "nbconvert_exporter": "python",
      "pygments_lexer": "ipython3",
      "version": "3.7.6"
    }
  },
  "cells": [
    {
      "cell_type": "markdown",
      "metadata": {
        "id": "0o5XSLDgxpTt"
      },
      "source": [
        "#Dataset\n",
        "\n",
        "Para esse algoritmo temos uma base de dados com:\n",
        "*   416 imagens de pacientes saudáveis\n",
        "*   561 imagens de pacientes diagnosticados com cancer maligno\n",
        "*   120 imagens de pacientes diagnosticados com cancer benigno\n",
        "todas as imagens estão em formato .png, coletadas a partir de uma máquina de tomografia computadorizada, e cada paciente temos apenas 1 imagens.\n",
        "\n",
        "Onde esse base de dados foi disponibilizada não há qualquer outra informação\n",
        "\n",
        "Essa base de dados pode ser encontrada no site da Kaggle no link: https://www.kaggle.com/hamdallak/the-iqothnccd-lung-cancer-dataset/metadata\n",
        "\n",
        "Obs.: As imagens de pacientes com cancer benigno não será considerada nesse código, pois, a quantidade de imagens disponibilizada não é suficiente para classificar entre as demais classes."
      ]
    },
    {
      "cell_type": "code",
      "metadata": {
        "colab": {
          "base_uri": "https://localhost:8080/"
        },
        "id": "jMC23W1YoC2V",
        "outputId": "a040d66f-22f6-41b1-ab38-62da081572d2"
      },
      "source": [
        "# Permisão para acessar o google drive\n",
        "from google.colab import drive\n",
        "drive.mount('/content/drive')"
      ],
      "execution_count": null,
      "outputs": [
        {
          "output_type": "stream",
          "text": [
            "Mounted at /content/drive\n"
          ],
          "name": "stdout"
        }
      ]
    },
    {
      "cell_type": "markdown",
      "metadata": {
        "id": "4VNySw5bE0Bt"
      },
      "source": [
        "#O problema\n",
        "Classificar a imagem de CT-Scan, de pulmão, entre paciente com cancer maligno ou saúdavel.\n",
        "O modelo será gerado sem estrutura apenas com leitura de imagem direto do diretório.\n",
        "\n",
        "A baixo o modelo conceitual do algoritmo\n",
        "\n",
        "![picture](https://drive.google.com/uc?export=view&id=1S5KX82yeArfL7BQ8gDM4XufcKZofFPFw)\n",
        "\n"
      ]
    },
    {
      "cell_type": "markdown",
      "metadata": {
        "id": "rm-Z-EwdFDpz"
      },
      "source": [
        "##Imports"
      ]
    },
    {
      "cell_type": "code",
      "metadata": {
        "id": "SEkNWG4uLK4G"
      },
      "source": [
        "# Bibliotecas utilizadas para o modelo de Transfer Learning\n",
        "import tensorflow as tf\n",
        "from tensorflow.keras import models\n",
        "from tensorflow.keras import layers\n",
        "from keras.optimizers import Adam\n",
        "from tensorflow.keras.layers import Input, Lambda, Dense, Flatten, AveragePooling2D, Dropout\n",
        "from tensorflow.keras.models import Model, load_model\n",
        "from tensorflow.keras.applications import ResNet50\n",
        "from tensorflow.keras.preprocessing.image import ImageDataGenerator\n",
        "\n",
        "# Biblioteca utilizada para os calculos das metricas, de otimização e divisão estratificada dos dados\n",
        "from sklearn.metrics import accuracy_score, f1_score, precision_score, confusion_matrix\n",
        "from sklearn.metrics import confusion_matrix, roc_curve\n",
        "from tensorflow.keras.callbacks import ModelCheckpoint, ReduceLROnPlateau\n",
        "from sklearn.model_selection import StratifiedKFold\n",
        "from sklearn.model_selection import train_test_split\n",
        "from sklearn.utils import shuffle\n",
        "\n",
        "# Bibliotecas utilizadas para montagem do dataframe e gráficos\n",
        "import seaborn as sns\n",
        "import numpy as np\n",
        "import matplotlib.pyplot as plt\n",
        "import pandas as pd\n",
        "\n",
        "# Biblioteca para leitura de arquivo\n",
        "import os"
      ],
      "execution_count": null,
      "outputs": []
    },
    {
      "cell_type": "markdown",
      "metadata": {
        "id": "gsJr4N90FIcj"
      },
      "source": [
        "Para melhor desenpenho do algoritmo é utilizado uma GPU disponibilizada pela Google Colab"
      ]
    },
    {
      "cell_type": "code",
      "metadata": {
        "colab": {
          "base_uri": "https://localhost:8080/"
        },
        "id": "XaS0Xk2nFcAE",
        "outputId": "08c227b8-f338-4ffa-e4cb-757b195c4996"
      },
      "source": [
        "# Verifica se a GPU está ligada\n",
        "\n",
        "%tensorflow_version 2.x \n",
        "import tensorflow as tf \n",
        "device_name = tf.test.gpu_device_name() \n",
        "if device_name != '/device:GPU:0':\n",
        "   raise SystemError('GPU device not foud')\n",
        "print('Found GPU at: {}'.format(device_name))"
      ],
      "execution_count": null,
      "outputs": [
        {
          "output_type": "stream",
          "text": [
            "Found GPU at: /device:GPU:0\n"
          ],
          "name": "stdout"
        }
      ]
    },
    {
      "cell_type": "markdown",
      "metadata": {
        "id": "ILFMIXs_FZt9"
      },
      "source": [
        "Leitura do diretório"
      ]
    },
    {
      "cell_type": "code",
      "metadata": {
        "colab": {
          "base_uri": "https://localhost:8080/"
        },
        "id": "W0n_iOxoT9U8",
        "outputId": "8bb170b4-fcb8-4fcd-b2dd-5f65a3121926"
      },
      "source": [
        "local ='/content/drive/MyDrive/COVID/COVID/CODIGOS/conjuntoImagem/The IQ-OTHNCCD lung cancer dataset/The IQ-OTHNCCD lung cancer dataset/train'\n",
        "folder = os.listdir(local)\n",
        "print(folder)"
      ],
      "execution_count": null,
      "outputs": [
        {
          "output_type": "stream",
          "text": [
            "['Malignant cases', 'Covid', 'Normal cases']\n"
          ],
          "name": "stdout"
        }
      ]
    },
    {
      "cell_type": "markdown",
      "metadata": {
        "id": "0Be-Mw-K2KTC"
      },
      "source": [
        "##Hyperparamentros"
      ]
    },
    {
      "cell_type": "code",
      "metadata": {
        "id": "yXlYefnPT_83"
      },
      "source": [
        "#define size to which images are to be resized\n",
        "IMAGE_SIZE = [224, 224]\n",
        "\n",
        "# training configuração\n",
        "batch_size = 32\n",
        "epochs = 100\n",
        "classLabels=[0, 1]\n",
        "datasetFolderName='DS'\n",
        "MODEL_FILENAME=\"model_cv.h5\"\n",
        "sourceFiles=[]\n",
        "# taxa de aprendizado\n",
        "learning_rate = 0.001\n",
        "alpha = 1e-5\n",
        "\n",
        "# Inicialização da seed para que a validação sempre ocorra da mesma forma a cada teste\n",
        "SEED = 17\n",
        "np.random.seed(SEED) "
      ],
      "execution_count": null,
      "outputs": []
    },
    {
      "cell_type": "markdown",
      "metadata": {
        "id": "E-xR68IQ2QIH"
      },
      "source": [
        "#Pré-processamento\n",
        "\n",
        "Para o pré-processamento temos a organização dos dados em dataframes, identificação das classes, divisão entre teste e treinamento."
      ]
    },
    {
      "cell_type": "markdown",
      "metadata": {
        "id": "jqOB5kg9bNYb"
      },
      "source": [
        "##Identificação das classes"
      ]
    },
    {
      "cell_type": "code",
      "metadata": {
        "colab": {
          "base_uri": "https://localhost:8080/"
        },
        "id": "FijF87eFbK8x",
        "outputId": "7692cf56-147c-464c-bdf0-f824f5bfa5e8"
      },
      "source": [
        "CATEGORIES = ['Malignant cases', 'Normal cases','Covid']\n",
        "NUM_CATEGORIES = len(CATEGORIES)\n",
        "NUM_CATEGORIES"
      ],
      "execution_count": null,
      "outputs": [
        {
          "output_type": "execute_result",
          "data": {
            "text/plain": [
              "3"
            ]
          },
          "metadata": {
            "tags": []
          },
          "execution_count": 19
        }
      ]
    },
    {
      "cell_type": "markdown",
      "metadata": {
        "id": "EP7jGVOdGHiL"
      },
      "source": [
        "Visualização da quantidade de imanges lidas para cada categoria"
      ]
    },
    {
      "cell_type": "code",
      "metadata": {
        "colab": {
          "base_uri": "https://localhost:8080/"
        },
        "id": "g26sT9ryZiRQ",
        "outputId": "cc789049-f753-476d-b6b0-66d41bd9fa8c"
      },
      "source": [
        "for category in CATEGORIES:\n",
        "    print('{} {} images'.format(category, len(os.listdir(os.path.join(local, category)))))"
      ],
      "execution_count": null,
      "outputs": [
        {
          "output_type": "stream",
          "text": [
            "Malignant cases 459 images\n",
            "Covid 364 images\n"
          ],
          "name": "stdout"
        }
      ]
    },
    {
      "cell_type": "markdown",
      "metadata": {
        "id": "FQe8-RxOGQ_H"
      },
      "source": [
        "Para o modelo, os caminhos para os arquivos foram estruturados no método data frame da biblioteca do pandas. Dessa forma é possível que cada imagem seja linkada a um index e assim sendo possível a manipulação das imagens sem saber qual é a classe da imagem. "
      ]
    },
    {
      "cell_type": "code",
      "metadata": {
        "colab": {
          "base_uri": "https://localhost:8080/"
        },
        "id": "V4SkL97EGR8w",
        "outputId": "2be43e17-5f37-41a6-8f1c-d4d59a64e3f4"
      },
      "source": [
        "dataset = []\n",
        "for category_id, category in enumerate(CATEGORIES):\n",
        "    for file in os.listdir(os.path.join(local, category)):\n",
        "        dataset.append(['{}/{}'.format(category, file), category_id, category])\n",
        "dataset = pd.DataFrame(dataset, columns=['file', 'category_id', 'category'])\n",
        "dataset.shape"
      ],
      "execution_count": null,
      "outputs": [
        {
          "output_type": "execute_result",
          "data": {
            "text/plain": [
              "(923, 3)"
            ]
          },
          "metadata": {
            "tags": []
          },
          "execution_count": 20
        }
      ]
    },
    {
      "cell_type": "markdown",
      "metadata": {
        "id": "OKmc0edlXjxJ"
      },
      "source": [
        "Embaralhar o dataframe. Caso o arquivo esteja com as classes organizadas, é necessario que faça o embaralhamento para evitar vies no treinamento"
      ]
    },
    {
      "cell_type": "code",
      "metadata": {
        "id": "lCmc3LJosjtO"
      },
      "source": [
        "dataset = dataset.sample(frac=1)\n",
        "dataset.index = np.arange(len(dataset))\n",
        "dataset.shape\n",
        "\n",
        "dataset\n",
        "train = dataset"
      ],
      "execution_count": null,
      "outputs": []
    },
    {
      "cell_type": "markdown",
      "metadata": {
        "id": "Bq2e2YwMGg4h"
      },
      "source": [
        "##Particionamento da base de dados\n",
        "\n",
        "A base de dados foi dividida entre treinamento(70%) e teste(30%) para que após o treinamento do modelo seja possível verificar se o modelo está generalizado. Assim, o resultado do teste é considerado o resultado final do projeto."
      ]
    },
    {
      "cell_type": "code",
      "metadata": {
        "id": "NmQKMMhfUPG7"
      },
      "source": [
        "#train, test = train_test_split( dataset, test_size=0.3, random_state=SEED, shuffle=False)\n",
        "#train"
      ],
      "execution_count": null,
      "outputs": []
    },
    {
      "cell_type": "markdown",
      "metadata": {
        "id": "zBHPMVqDGyuM"
      },
      "source": [
        "#Aprendizado\n",
        "\n",
        "Após a estruturação e divisão dos dados pode-se contruir o algoritmo de aprendizado de máquina, onde, é definido as metricas, métodos de otimização, métodos de aumento de dados (regularização) e a construção do modelo.\n"
      ]
    },
    {
      "cell_type": "markdown",
      "metadata": {
        "id": "Hbf2zCf_yoTG"
      },
      "source": [
        "## Metrica\n",
        "\n",
        "A metricas utilizadas são:\n",
        "1.   Accuracy: Esta é a métrica mais simples. É basicamente o número de acertos (positivos) divido pelo número total de exemplos. Ela deve ser usada em datasets com a mesma proporção de exemplos para cada classe, e quando as penalidades de acerto e erro para cada classe forem as mesmas.\n",
        "\n",
        "2.   Pressição: Número de exemplos classificados como pertencentes a uma classe, que realmente são daquela classe (positivos verdadeiros), dividido pela soma entre este número, e o número de exemplos classificados nesta classe, mas que pertencem a outras (falsos positivos).\n",
        "\n",
        "3.   F1: O F1 Score é uma média harmônica entre precisão (que, apesar de ter o mesmo nome, não é a mesma citada acima) e recall. Veja abaixo as definições destes dois termos.\n",
        "\n",
        "4.   Matriz de Confusão: Contagem de acertos e erros colocados em uma matriz, nela é possivel verificar os falsos-positivos, que indicam se o modelo está classificando uma pessoa sem cancer quando na verdade ela o tem.\n"
      ]
    },
    {
      "cell_type": "code",
      "metadata": {
        "id": "d7Ll4fcGGFHl"
      },
      "source": [
        "def my_metrics(y_true, y_pred):\n",
        "    accuracy=accuracy_score(y_true, y_pred)\n",
        "    precision=precision_score(y_true, y_pred,average='weighted')\n",
        "    f1Score=f1_score(y_true, y_pred, average='weighted') \n",
        "    print(\"Accuracy  : {}\".format(accuracy))\n",
        "    print(\"Precision : {}\".format(precision))\n",
        "    print(\"f1Score : {}\".format(f1Score))\n",
        "    cm=confusion_matrix(y_true, y_pred)\n",
        "    print(cm)\n",
        "    \n",
        "    return accuracy, precision, f1Score"
      ],
      "execution_count": null,
      "outputs": []
    },
    {
      "cell_type": "markdown",
      "metadata": {
        "id": "AR8TEJewypZn"
      },
      "source": [
        "### Visualização do gráficos\n",
        "\n",
        "Plot do output da acuracia e da loss do modelo de treinamento e teste"
      ]
    },
    {
      "cell_type": "code",
      "metadata": {
        "id": "4jTLnGHNFZ0v"
      },
      "source": [
        "def printHistory(history, title):\n",
        "  f, (ax1, ax2) = plt.subplots(1, 2, figsize=(12, 4))\n",
        "  t = f.suptitle(title, fontsize=12)\n",
        "  f.subplots_adjust(top=0.85, wspace=0.3)\n",
        "\n",
        "  #epoch_list = list(range(1,epochs+1))\n",
        "  ax1.plot(history.history['accuracy'], label='Train Accuracy')\n",
        "  ax1.plot(history.history['val_accuracy'], label='Validation Accuracy')\n",
        "  #ax1.set_xticks(np.arange(0, epochs+1, 5))\n",
        "  ax1.set_ylabel('Accuracy Value')\n",
        "  ax1.set_xlabel('Epoch')\n",
        "  ax1.set_title('Accuracy')\n",
        "  ax1.legend(['Training', 'Validation'])\n",
        "  #l1 = ax1.legend(loc=\"best\")\n",
        "\n",
        "  ax2.plot(history.history['loss'], label='Train Loss')\n",
        "  ax2.plot(history.history['val_loss'], label='Validation Loss')\n",
        "  #ax2.set_xticks(np.arange(0, epochs+1, 5))\n",
        "  ax2.set_ylabel('Loss Value')\n",
        "  ax2.set_xlabel('Epoch')\n",
        "  ax2.set_title('Loss')\n",
        "  ax2.legend(['Training', 'Validation'])\n",
        "  #l2 = ax2.legend(loc=\"best\")"
      ],
      "execution_count": null,
      "outputs": []
    },
    {
      "cell_type": "markdown",
      "metadata": {
        "id": "FOgAee8-G4PQ"
      },
      "source": [
        "##Regularização\n",
        "A técnica de regularização (https://www.deeplearningbook.org/) para diminuir o overfit que usamos é a Data Augmentation, esse método possibilita que aumentamos a quantidade de imagens e assim todos os milhões de paramentos presente na CNN seja utilizado e assim aumentando a generalização do modelo. As combinações realizadas no conjunto de treinamento foram:\n",
        "\n",
        "* Normalização dos valores dos pixel da imagem\n",
        "* Zoom\n",
        "* Rotação\n",
        "* Preenchimento\n",
        "* Achatamento e alongamento\n",
        "\n",
        "Contudo, o flip não será utilizado, nem horizontal e nem vertical, pois o pulmão direito tem suas diferenças importantes com relação ao pulmão esquerdo.\n"
      ]
    },
    {
      "cell_type": "code",
      "metadata": {
        "id": "F6RQfz7pdQq-"
      },
      "source": [
        "  train_datagen = ImageDataGenerator(rescale=1./255,\n",
        "                                     zoom_range=0.20, \n",
        "                                     fill_mode=\"nearest\", \n",
        "                                     rotation_range=20, \n",
        "                                     width_shift_range=0.2, \n",
        "                                     height_shift_range=0.2, \n",
        "                                     horizontal_flip=False)\n",
        "  \n",
        "  validation_datagen = ImageDataGenerator(rescale=1./255)"
      ],
      "execution_count": null,
      "outputs": []
    },
    {
      "cell_type": "markdown",
      "metadata": {
        "id": "ZEcBPNLI8aaP"
      },
      "source": [
        "##Modelo: transfer learning - VGG19\n",
        "\n",
        "O modelo utilizado foi de transferLaning. O transfer Learning surgiu com desafio de imagenet que possui 12 milhões de imagens e o objetivo era categorizar mais de mil classes diferentes. E aos poucos foram criadas as diversas redes neurais.Para esse código foi utilizado o VGG19.\n",
        "\n",
        "Na VGG-19 foi inserido os pesos da imagnet, não foi incluído o toda da rede neural e com imagens as imagens com RGB. Como a VGG-19 possui milhões de parâmetros treináveis, para reduzir a computação será treinado apenas as camadas mais profundas. As camadas iniciais aprendem com características muito gerais e a média que ela se aprofunda nas camadas tende a aprender padrões mais específicos para o problema. Sendo assim, a partir do block5_conv1 será o início do treinamento da rede neural.\n",
        "\n",
        "Para o modelo é adicionado a VGG-19 com a rede Dense com 128 neurônios, depois adicionado a camada de pooling (redução de de resolução) pela média, também é adicionado a Flaten para que a computação entenda melhor a imagem. Para reduzir o overfitting foi utilizado a  técnica de método do dropout o qual irá desligar 5 neurônios e tenta treinar com esse 5 neurônios e assim conseguir regularizar a rede neural, e a técnica de Batch Normalization que durante o treinamento é feito a normalização a cada passada por neurônios e isso irá aumentar a estabilidade da rede neural.\n",
        "\n",
        "E para a compilação do modelo é utilizado uma Binary Cross Entropy, o otimizador Adam, e como métrica a acurácia."
      ]
    },
    {
      "cell_type": "code",
      "metadata": {
        "id": "wd8bHaFKGeCA"
      },
      "source": [
        "def createModel():\n",
        "  # Building Model  ===>shape 150 ou 224??\n",
        "  vggModel = ResNet50(weights=\"imagenet\", include_top=False,\n",
        "                  input_tensor=Input(shape=(224, 224, 3)))\n",
        "\n",
        "  #ajuste fino\n",
        "  vggModel.trainable = True\n",
        "  set_trainable = False\n",
        "  for layer in vggModel.layers:\n",
        "    if layer.name == 'block5_conv1':\n",
        "      set_trainable = True\n",
        "    if set_trainable:\n",
        "      layer.trainable = True\n",
        "    else:\n",
        "      layer.trainable = False\n",
        "\n",
        "  model = models.Sequential()\n",
        "  model.add(vggModel)\n",
        "  model.add(layers.GlobalAveragePooling2D()) #redução de resolução pela media global\n",
        "  model.add(layers.BatchNormalization())#aplica normalizações durante a troca de neuronios\n",
        "  model.add(layers.Flatten()) #transforma a imagem\n",
        "  model.add(layers.Dense(128,activation='relu'))#camada densa de 128 neuronios\n",
        "  model.add(layers.Dropout(0.5)) #delisga 5 neronios e treina com eles, generalizar a rede diminuindo overfit\n",
        "  model.add(layers.Dense(3, activation='softmax'))\n",
        "\n",
        "  #opt = Adam(lr=learning_rate, decay=learning_rate / epochs)\n",
        "  model.compile( loss='categorical_crossentropy', optimizer=\"adam\", metrics=['accuracy'])\n",
        "\n",
        "  return model"
      ],
      "execution_count": null,
      "outputs": []
    },
    {
      "cell_type": "markdown",
      "metadata": {
        "id": "tJaYfpF_s147"
      },
      "source": [
        "### Otimização do modelo de treinamento\n",
        "\n",
        "Para a otimização é utilizado \n",
        "\n",
        "*   Reduce Plateau para minimizar a função objetivo. \n",
        "\n",
        "Com isso é possível encontrar um o mínimo local, e para reduzir a taxa de aprendizado pelo fato caso não ocorra mudança na. Quando a perda não for alterada a acurácia atual muda para algo pior para que seja possível encontrar o mínimo global. \n",
        "\n",
        "*   ModelChecpoint\n",
        "\n",
        "Reesponsavel por analizar todas as interações do modelo e salvar o melhor modelo para que possamos ulizar ele para a verificação da generalização do modelo"
      ]
    },
    {
      "cell_type": "code",
      "metadata": {
        "id": "YYqqLq84s148"
      },
      "source": [
        "#callbacks for keras modal\n",
        "def get_callbacks():\n",
        "    print(\"Get Callbacks\")\n",
        "\n",
        "    lr_reduce = ReduceLROnPlateau(monitor='val_accuracy', factor=0.1, min_delta=1e-5, patience=5, verbose=1)\n",
        "    checkpoint = ModelCheckpoint('/content/drive/MyDrive/COVID/COVID/CODIGOS/conjuntoImagem/BESTcallback_weights_resnetMISTO.hdf5', save_best_only=True)\n",
        "    return [lr_reduce, checkpoint]"
      ],
      "execution_count": null,
      "outputs": []
    },
    {
      "cell_type": "markdown",
      "metadata": {
        "id": "RuBMn19bHWt7"
      },
      "source": [
        "##CrossValidation\n",
        "\n",
        "Depois do particionamento do dataset o treinamento terá com um processo de validação cruzada para poder gerar um modelo generaliza.\n",
        "\n",
        "Mais uma vez os dados serão divididos, porém, agora em k partes e, em seguida, testar os modelos apenas uma parte dos dados. Isso é chamado de validação cruzada k-fold. Não apenas fornece a estimativa de desempenho, mas também é possível verificar a propagação do erro. Os dados são divididos em K partes, para cada uma dessas partes, o modelo irá usar a parte K-1 para treinar, enquanto usará 1 parte para validar. Ao final do processo, quando o modelo iterar todas as k vezes, obtém-se um verdadeiro score de como seu modelo está generalizando. Para a  presente aplicação foi adotado k igual a 3.\n",
        "\n",
        "A divisão entre os folds foram com estratificação a qual faz a divisão de cada fold com o mesma quantidade de cada classe em cada um"
      ]
    },
    {
      "cell_type": "code",
      "metadata": {
        "id": "JOFO8UaNcDd8"
      },
      "source": [
        "skf = StratifiedKFold(3, random_state = 0, shuffle = True) "
      ],
      "execution_count": null,
      "outputs": []
    },
    {
      "cell_type": "markdown",
      "metadata": {
        "id": "tEJicUyKA9St"
      },
      "source": [
        "## Modelo"
      ]
    },
    {
      "cell_type": "code",
      "metadata": {
        "colab": {
          "base_uri": "https://localhost:8080/",
          "height": 1000
        },
        "id": "CjCG67rY8KNX",
        "outputId": "a3e57cc7-8ddf-4d2d-fba6-842fc4d2a3b0"
      },
      "source": [
        "VALIDATION_ACCURACY = []\n",
        "VALIDATION_LOSS = []\n",
        "\n",
        "fold_var = 0\n",
        "t = train.category_id\n",
        "\n",
        "for train_index, valid_index in skf.split(np.zeros(len(t)), t): \n",
        "\n",
        "  fold_var+=1\n",
        "\n",
        "  train_kf = train.loc[train_index]\n",
        "  valid_kf = train.loc[valid_index]\n",
        " \n",
        "  model = createModel()\n",
        "\n",
        "       \n",
        "  #Start ImageClassification Model\n",
        "  train_generator = train_datagen.flow_from_dataframe(dataframe=train_kf,\n",
        "                                            directory=local,\n",
        "                                            x_col=\"file\",\n",
        "                                            y_col=\"category\",\n",
        "                                            batch_size=batch_size,\n",
        "                                            seed=17,\n",
        "                                            shuffle=True,\n",
        "                                            class_mode=\"categorical\",\n",
        "                                            target_size=(224, 224));\n",
        "\n",
        "  valid_generator=validation_datagen.flow_from_dataframe(dataframe=valid_kf,\n",
        "                                            directory=local,\n",
        "                                            x_col=\"file\",\n",
        "                                            y_col=\"category\",\n",
        "                                            batch_size=batch_size,\n",
        "                                            seed=17,\n",
        "                                            shuffle=False,\n",
        "                                            class_mode=\"categorical\",\n",
        "                                            target_size=(224, 224));\n",
        "\n",
        "  \n",
        "  # fit model\n",
        "  history=model.fit_generator(generator = train_generator, \n",
        "                              validation_data = valid_generator,\n",
        "                              steps_per_epoch= train_generator.n / train_generator.batch_size,\n",
        "                              validation_steps= valid_generator.n / valid_generator.batch_size,\n",
        "                              epochs=epochs,\n",
        "                              verbose = 1,\n",
        "                              callbacks = get_callbacks())\n",
        "\n",
        "  predictions = model.predict_generator(valid_generator, verbose=1)\n",
        "  yPredictions = np.argmax(predictions, axis=1)\n",
        "  true_classes = valid_generator.classes\n",
        "\n",
        "  # evaluate validation performance\n",
        "  print(\"***Performance on Validation data***\")    \n",
        "  valAcc, valPrec, valFScore = my_metrics(true_classes, yPredictions)\n",
        "  \n",
        "  printHistory(history, \"Xception\")\n",
        "\n",
        "\n",
        "  results = model.evaluate(valid_generator)\n",
        "  results = dict(zip(model.metrics_names,results))\n",
        "\n",
        "  VALIDATION_ACCURACY.append(results['accuracy'])\n",
        "  VALIDATION_LOSS.append(results['loss'])\n",
        "\n",
        "  tf.keras.backend.clear_session()\n"
      ],
      "execution_count": null,
      "outputs": [
        {
          "output_type": "stream",
          "text": [
            "Found 548 validated image filenames belonging to 2 classes.\n",
            "Found 275 validated image filenames belonging to 2 classes.\n",
            "Get Callbacks\n"
          ],
          "name": "stdout"
        },
        {
          "output_type": "stream",
          "text": [
            "/usr/local/lib/python3.7/dist-packages/tensorflow/python/keras/engine/training.py:1940: UserWarning: `Model.fit_generator` is deprecated and will be removed in a future version. Please use `Model.fit`, which supports generators.\n",
            "  warnings.warn('`Model.fit_generator` is deprecated and '\n"
          ],
          "name": "stderr"
        },
        {
          "output_type": "stream",
          "text": [
            "Epoch 1/100\n",
            "17/17 [==============================] - 155s 9s/step - loss: 0.3746 - accuracy: 0.8230 - val_loss: 0.8224 - val_accuracy: 0.5564\n"
          ],
          "name": "stdout"
        },
        {
          "output_type": "stream",
          "text": [
            "/usr/local/lib/python3.7/dist-packages/tensorflow/python/keras/utils/generic_utils.py:497: CustomMaskWarning: Custom mask layers require a config and must override get_config. When loading, the custom mask layer must be passed to the custom_objects argument.\n",
            "  category=CustomMaskWarning)\n"
          ],
          "name": "stderr"
        },
        {
          "output_type": "stream",
          "text": [
            "Epoch 2/100\n",
            "17/17 [==============================] - 11s 651ms/step - loss: 0.1764 - accuracy: 0.9453 - val_loss: 1.0372 - val_accuracy: 0.5564\n",
            "Epoch 3/100\n",
            "17/17 [==============================] - 11s 660ms/step - loss: 0.1298 - accuracy: 0.9635 - val_loss: 1.1405 - val_accuracy: 0.5564\n",
            "Epoch 4/100\n",
            "17/17 [==============================] - 12s 683ms/step - loss: 0.1213 - accuracy: 0.9562 - val_loss: 1.2391 - val_accuracy: 0.5564\n",
            "Epoch 5/100\n",
            "17/17 [==============================] - 11s 683ms/step - loss: 0.1086 - accuracy: 0.9562 - val_loss: 1.0677 - val_accuracy: 0.5564\n",
            "Epoch 6/100\n",
            "17/17 [==============================] - 11s 633ms/step - loss: 0.1091 - accuracy: 0.9617 - val_loss: 1.0094 - val_accuracy: 0.5564\n",
            "\n",
            "Epoch 00006: ReduceLROnPlateau reducing learning rate to 0.00010000000474974513.\n",
            "Epoch 7/100\n",
            "17/17 [==============================] - 11s 635ms/step - loss: 0.0861 - accuracy: 0.9726 - val_loss: 0.8730 - val_accuracy: 0.5564\n",
            "Epoch 8/100\n",
            "17/17 [==============================] - 11s 623ms/step - loss: 0.0876 - accuracy: 0.9653 - val_loss: 0.7700 - val_accuracy: 0.5564\n",
            "Epoch 9/100\n",
            "17/17 [==============================] - 12s 708ms/step - loss: 0.0931 - accuracy: 0.9708 - val_loss: 0.6388 - val_accuracy: 0.5564\n",
            "Epoch 10/100\n",
            "17/17 [==============================] - 12s 691ms/step - loss: 0.0882 - accuracy: 0.9726 - val_loss: 0.5474 - val_accuracy: 0.5636\n",
            "Epoch 11/100\n",
            "17/17 [==============================] - 11s 655ms/step - loss: 0.0837 - accuracy: 0.9745 - val_loss: 0.4550 - val_accuracy: 0.6073\n",
            "Epoch 12/100\n",
            "17/17 [==============================] - 11s 649ms/step - loss: 0.0923 - accuracy: 0.9726 - val_loss: 0.3893 - val_accuracy: 0.6800\n",
            "Epoch 13/100\n",
            "17/17 [==============================] - 11s 645ms/step - loss: 0.0696 - accuracy: 0.9781 - val_loss: 0.3381 - val_accuracy: 0.7636\n",
            "Epoch 14/100\n",
            "17/17 [==============================] - 12s 680ms/step - loss: 0.0609 - accuracy: 0.9836 - val_loss: 0.2823 - val_accuracy: 0.8545\n",
            "Epoch 15/100\n",
            "17/17 [==============================] - 12s 693ms/step - loss: 0.0833 - accuracy: 0.9672 - val_loss: 0.2595 - val_accuracy: 0.8655\n",
            "Epoch 16/100\n",
            "17/17 [==============================] - 11s 689ms/step - loss: 0.0940 - accuracy: 0.9672 - val_loss: 0.2336 - val_accuracy: 0.9055\n",
            "Epoch 17/100\n",
            "17/17 [==============================] - 11s 653ms/step - loss: 0.0952 - accuracy: 0.9726 - val_loss: 0.1848 - val_accuracy: 0.9636\n",
            "Epoch 18/100\n",
            "17/17 [==============================] - 11s 645ms/step - loss: 0.0899 - accuracy: 0.9763 - val_loss: 0.1426 - val_accuracy: 0.9818\n",
            "Epoch 19/100\n",
            "17/17 [==============================] - 11s 653ms/step - loss: 0.0855 - accuracy: 0.9672 - val_loss: 0.1290 - val_accuracy: 0.9818\n",
            "Epoch 20/100\n",
            "17/17 [==============================] - 12s 693ms/step - loss: 0.0620 - accuracy: 0.9763 - val_loss: 0.1190 - val_accuracy: 0.9855\n",
            "Epoch 21/100\n",
            "17/17 [==============================] - 12s 678ms/step - loss: 0.0932 - accuracy: 0.9580 - val_loss: 0.1017 - val_accuracy: 0.9855\n",
            "Epoch 22/100\n",
            "17/17 [==============================] - 11s 671ms/step - loss: 0.0688 - accuracy: 0.9781 - val_loss: 0.0955 - val_accuracy: 0.9855\n",
            "Epoch 23/100\n",
            "17/17 [==============================] - 12s 692ms/step - loss: 0.0804 - accuracy: 0.9763 - val_loss: 0.0856 - val_accuracy: 0.9855\n",
            "Epoch 24/100\n",
            "17/17 [==============================] - 11s 669ms/step - loss: 0.0796 - accuracy: 0.9708 - val_loss: 0.0737 - val_accuracy: 0.9855\n",
            "Epoch 25/100\n",
            "17/17 [==============================] - 14s 649ms/step - loss: 0.0659 - accuracy: 0.9818 - val_loss: 0.0617 - val_accuracy: 0.9855\n",
            "\n",
            "Epoch 00025: ReduceLROnPlateau reducing learning rate to 1.0000000474974514e-05.\n",
            "Epoch 26/100\n",
            "17/17 [==============================] - 11s 650ms/step - loss: 0.0852 - accuracy: 0.9708 - val_loss: 0.0563 - val_accuracy: 0.9855\n",
            "Epoch 27/100\n",
            "17/17 [==============================] - 11s 669ms/step - loss: 0.0681 - accuracy: 0.9781 - val_loss: 0.0522 - val_accuracy: 0.9855\n",
            "Epoch 28/100\n",
            "17/17 [==============================] - 12s 696ms/step - loss: 0.0626 - accuracy: 0.9836 - val_loss: 0.0490 - val_accuracy: 0.9855\n",
            "Epoch 29/100\n",
            "17/17 [==============================] - 11s 669ms/step - loss: 0.0827 - accuracy: 0.9745 - val_loss: 0.0460 - val_accuracy: 0.9818\n",
            "Epoch 30/100\n",
            "17/17 [==============================] - 11s 650ms/step - loss: 0.0789 - accuracy: 0.9726 - val_loss: 0.0432 - val_accuracy: 0.9855\n",
            "\n",
            "Epoch 00030: ReduceLROnPlateau reducing learning rate to 1.0000000656873453e-06.\n",
            "Epoch 31/100\n",
            "17/17 [==============================] - 11s 649ms/step - loss: 0.0670 - accuracy: 0.9726 - val_loss: 0.0410 - val_accuracy: 0.9855\n",
            "Epoch 32/100\n",
            "17/17 [==============================] - 11s 645ms/step - loss: 0.0724 - accuracy: 0.9799 - val_loss: 0.0390 - val_accuracy: 0.9855\n",
            "Epoch 33/100\n",
            "17/17 [==============================] - 12s 702ms/step - loss: 0.0687 - accuracy: 0.9781 - val_loss: 0.0374 - val_accuracy: 0.9855\n",
            "Epoch 34/100\n",
            "17/17 [==============================] - 12s 699ms/step - loss: 0.0776 - accuracy: 0.9763 - val_loss: 0.0360 - val_accuracy: 0.9855\n",
            "Epoch 35/100\n",
            "17/17 [==============================] - 11s 657ms/step - loss: 0.0720 - accuracy: 0.9799 - val_loss: 0.0348 - val_accuracy: 0.9855\n",
            "\n",
            "Epoch 00035: ReduceLROnPlateau reducing learning rate to 1.0000001111620805e-07.\n",
            "Epoch 36/100\n",
            "17/17 [==============================] - 11s 650ms/step - loss: 0.0885 - accuracy: 0.9726 - val_loss: 0.0336 - val_accuracy: 0.9855\n",
            "Epoch 37/100\n",
            "17/17 [==============================] - 11s 649ms/step - loss: 0.0758 - accuracy: 0.9799 - val_loss: 0.0324 - val_accuracy: 0.9891\n",
            "Epoch 38/100\n",
            "17/17 [==============================] - 12s 679ms/step - loss: 0.1032 - accuracy: 0.9580 - val_loss: 0.0315 - val_accuracy: 0.9891\n",
            "Epoch 39/100\n",
            "17/17 [==============================] - 12s 696ms/step - loss: 0.0923 - accuracy: 0.9672 - val_loss: 0.0312 - val_accuracy: 0.9891\n",
            "Epoch 40/100\n",
            "17/17 [==============================] - 11s 668ms/step - loss: 0.0834 - accuracy: 0.9690 - val_loss: 0.0306 - val_accuracy: 0.9891\n",
            "Epoch 41/100\n",
            "17/17 [==============================] - 11s 653ms/step - loss: 0.0755 - accuracy: 0.9708 - val_loss: 0.0303 - val_accuracy: 0.9891\n",
            "Epoch 42/100\n",
            "17/17 [==============================] - 11s 653ms/step - loss: 0.0620 - accuracy: 0.9818 - val_loss: 0.0299 - val_accuracy: 0.9891\n",
            "\n",
            "Epoch 00042: ReduceLROnPlateau reducing learning rate to 1.000000082740371e-08.\n",
            "Epoch 43/100\n",
            "17/17 [==============================] - 11s 658ms/step - loss: 0.0825 - accuracy: 0.9726 - val_loss: 0.0296 - val_accuracy: 0.9891\n",
            "Epoch 44/100\n",
            "17/17 [==============================] - 12s 729ms/step - loss: 0.0895 - accuracy: 0.9599 - val_loss: 0.0291 - val_accuracy: 0.9891\n",
            "Epoch 45/100\n",
            "17/17 [==============================] - 12s 689ms/step - loss: 0.0664 - accuracy: 0.9781 - val_loss: 0.0288 - val_accuracy: 0.9891\n",
            "Epoch 46/100\n",
            "17/17 [==============================] - 11s 676ms/step - loss: 0.0853 - accuracy: 0.9745 - val_loss: 0.0286 - val_accuracy: 0.9891\n",
            "Epoch 47/100\n",
            "17/17 [==============================] - 12s 693ms/step - loss: 0.0686 - accuracy: 0.9763 - val_loss: 0.0285 - val_accuracy: 0.9891\n",
            "\n",
            "Epoch 00047: ReduceLROnPlateau reducing learning rate to 1.000000082740371e-09.\n",
            "Epoch 48/100\n",
            "17/17 [==============================] - 11s 660ms/step - loss: 0.0660 - accuracy: 0.9818 - val_loss: 0.0285 - val_accuracy: 0.9891\n",
            "Epoch 49/100\n",
            "17/17 [==============================] - 11s 643ms/step - loss: 0.0817 - accuracy: 0.9726 - val_loss: 0.0285 - val_accuracy: 0.9891\n",
            "Epoch 50/100\n",
            "17/17 [==============================] - 11s 639ms/step - loss: 0.0657 - accuracy: 0.9745 - val_loss: 0.0284 - val_accuracy: 0.9891\n",
            "Epoch 51/100\n",
            "17/17 [==============================] - 12s 699ms/step - loss: 0.0940 - accuracy: 0.9653 - val_loss: 0.0284 - val_accuracy: 0.9927\n",
            "Epoch 52/100\n",
            "17/17 [==============================] - 12s 680ms/step - loss: 0.0745 - accuracy: 0.9799 - val_loss: 0.0284 - val_accuracy: 0.9927\n",
            "Epoch 53/100\n",
            "17/17 [==============================] - 11s 631ms/step - loss: 0.0754 - accuracy: 0.9781 - val_loss: 0.0287 - val_accuracy: 0.9927\n",
            "Epoch 54/100\n",
            "17/17 [==============================] - 11s 629ms/step - loss: 0.0769 - accuracy: 0.9781 - val_loss: 0.0286 - val_accuracy: 0.9927\n",
            "Epoch 55/100\n",
            "17/17 [==============================] - 11s 628ms/step - loss: 0.0613 - accuracy: 0.9799 - val_loss: 0.0288 - val_accuracy: 0.9891\n",
            "Epoch 56/100\n",
            "17/17 [==============================] - 11s 638ms/step - loss: 0.0872 - accuracy: 0.9726 - val_loss: 0.0285 - val_accuracy: 0.9927\n",
            "\n",
            "Epoch 00056: ReduceLROnPlateau reducing learning rate to 1.000000082740371e-10.\n",
            "Epoch 57/100\n",
            "17/17 [==============================] - 12s 676ms/step - loss: 0.0793 - accuracy: 0.9763 - val_loss: 0.0283 - val_accuracy: 0.9927\n",
            "Epoch 58/100\n",
            "17/17 [==============================] - 12s 682ms/step - loss: 0.0723 - accuracy: 0.9672 - val_loss: 0.0283 - val_accuracy: 0.9927\n",
            "Epoch 59/100\n",
            "17/17 [==============================] - 11s 639ms/step - loss: 0.0946 - accuracy: 0.9672 - val_loss: 0.0283 - val_accuracy: 0.9927\n",
            "Epoch 60/100\n",
            "17/17 [==============================] - 11s 652ms/step - loss: 0.0876 - accuracy: 0.9690 - val_loss: 0.0284 - val_accuracy: 0.9927\n",
            "Epoch 61/100\n",
            "17/17 [==============================] - 11s 635ms/step - loss: 0.0773 - accuracy: 0.9781 - val_loss: 0.0286 - val_accuracy: 0.9927\n",
            "\n",
            "Epoch 00061: ReduceLROnPlateau reducing learning rate to 1.000000082740371e-11.\n",
            "Epoch 62/100\n",
            "17/17 [==============================] - 11s 667ms/step - loss: 0.0684 - accuracy: 0.9818 - val_loss: 0.0283 - val_accuracy: 0.9927\n",
            "Epoch 63/100\n",
            "17/17 [==============================] - 12s 681ms/step - loss: 0.0764 - accuracy: 0.9708 - val_loss: 0.0284 - val_accuracy: 0.9927\n",
            "Epoch 64/100\n",
            "17/17 [==============================] - 11s 658ms/step - loss: 0.0639 - accuracy: 0.9799 - val_loss: 0.0284 - val_accuracy: 0.9927\n",
            "Epoch 65/100\n",
            "17/17 [==============================] - 11s 638ms/step - loss: 0.0769 - accuracy: 0.9672 - val_loss: 0.0282 - val_accuracy: 0.9927\n",
            "Epoch 66/100\n",
            "17/17 [==============================] - 11s 652ms/step - loss: 0.0765 - accuracy: 0.9745 - val_loss: 0.0283 - val_accuracy: 0.9927\n",
            "\n",
            "Epoch 00066: ReduceLROnPlateau reducing learning rate to 1.000000082740371e-12.\n",
            "Epoch 67/100\n",
            "17/17 [==============================] - 11s 629ms/step - loss: 0.0775 - accuracy: 0.9799 - val_loss: 0.0281 - val_accuracy: 0.9927\n",
            "Epoch 68/100\n",
            "17/17 [==============================] - 12s 693ms/step - loss: 0.0642 - accuracy: 0.9763 - val_loss: 0.0280 - val_accuracy: 0.9927\n",
            "Epoch 69/100\n",
            "17/17 [==============================] - 12s 687ms/step - loss: 0.0671 - accuracy: 0.9818 - val_loss: 0.0280 - val_accuracy: 0.9891\n",
            "Epoch 70/100\n",
            "17/17 [==============================] - 11s 659ms/step - loss: 0.0880 - accuracy: 0.9635 - val_loss: 0.0281 - val_accuracy: 0.9891\n",
            "Epoch 71/100\n",
            "17/17 [==============================] - 11s 637ms/step - loss: 0.0678 - accuracy: 0.9818 - val_loss: 0.0284 - val_accuracy: 0.9927\n",
            "\n",
            "Epoch 00071: ReduceLROnPlateau reducing learning rate to 1.0000001044244145e-13.\n",
            "Epoch 72/100\n",
            "17/17 [==============================] - 11s 627ms/step - loss: 0.1129 - accuracy: 0.9599 - val_loss: 0.0282 - val_accuracy: 0.9927\n",
            "Epoch 73/100\n",
            "17/17 [==============================] - 11s 676ms/step - loss: 0.0884 - accuracy: 0.9690 - val_loss: 0.0282 - val_accuracy: 0.9927\n",
            "Epoch 74/100\n",
            "17/17 [==============================] - 11s 668ms/step - loss: 0.0818 - accuracy: 0.9690 - val_loss: 0.0283 - val_accuracy: 0.9927\n",
            "Epoch 75/100\n",
            "17/17 [==============================] - 11s 662ms/step - loss: 0.0891 - accuracy: 0.9745 - val_loss: 0.0286 - val_accuracy: 0.9927\n",
            "Epoch 76/100\n",
            "17/17 [==============================] - 11s 646ms/step - loss: 0.0653 - accuracy: 0.9799 - val_loss: 0.0284 - val_accuracy: 0.9927\n",
            "\n",
            "Epoch 00076: ReduceLROnPlateau reducing learning rate to 1.0000001179769417e-14.\n",
            "Epoch 77/100\n",
            "17/17 [==============================] - 11s 671ms/step - loss: 0.0628 - accuracy: 0.9763 - val_loss: 0.0283 - val_accuracy: 0.9927\n",
            "Epoch 78/100\n",
            "17/17 [==============================] - 11s 660ms/step - loss: 0.0585 - accuracy: 0.9854 - val_loss: 0.0282 - val_accuracy: 0.9927\n",
            "Epoch 79/100\n",
            "17/17 [==============================] - 11s 624ms/step - loss: 0.0621 - accuracy: 0.9818 - val_loss: 0.0282 - val_accuracy: 0.9927\n",
            "Epoch 80/100\n",
            "17/17 [==============================] - 11s 627ms/step - loss: 0.0834 - accuracy: 0.9690 - val_loss: 0.0284 - val_accuracy: 0.9927\n",
            "Epoch 81/100\n",
            "17/17 [==============================] - 11s 625ms/step - loss: 0.0697 - accuracy: 0.9763 - val_loss: 0.0283 - val_accuracy: 0.9927\n",
            "\n",
            "Epoch 00081: ReduceLROnPlateau reducing learning rate to 1.0000001518582595e-15.\n",
            "Epoch 82/100\n",
            "17/17 [==============================] - 11s 644ms/step - loss: 0.0836 - accuracy: 0.9726 - val_loss: 0.0284 - val_accuracy: 0.9927\n",
            "Epoch 83/100\n",
            "17/17 [==============================] - 11s 703ms/step - loss: 0.0749 - accuracy: 0.9745 - val_loss: 0.0284 - val_accuracy: 0.9927\n",
            "Epoch 84/100\n",
            "17/17 [==============================] - 11s 669ms/step - loss: 0.0615 - accuracy: 0.9781 - val_loss: 0.0283 - val_accuracy: 0.9891\n",
            "Epoch 85/100\n",
            "17/17 [==============================] - 11s 627ms/step - loss: 0.0775 - accuracy: 0.9745 - val_loss: 0.0281 - val_accuracy: 0.9891\n",
            "Epoch 86/100\n",
            "17/17 [==============================] - 11s 630ms/step - loss: 0.0780 - accuracy: 0.9745 - val_loss: 0.0283 - val_accuracy: 0.9891\n",
            "\n",
            "Epoch 00086: ReduceLROnPlateau reducing learning rate to 1.0000001095066122e-16.\n",
            "Epoch 87/100\n",
            "17/17 [==============================] - 11s 627ms/step - loss: 0.0727 - accuracy: 0.9836 - val_loss: 0.0281 - val_accuracy: 0.9891\n",
            "Epoch 88/100\n",
            "17/17 [==============================] - 11s 642ms/step - loss: 0.0799 - accuracy: 0.9781 - val_loss: 0.0282 - val_accuracy: 0.9891\n",
            "Epoch 89/100\n",
            "17/17 [==============================] - 11s 666ms/step - loss: 0.0876 - accuracy: 0.9672 - val_loss: 0.0284 - val_accuracy: 0.9927\n",
            "Epoch 90/100\n",
            "17/17 [==============================] - 11s 655ms/step - loss: 0.0734 - accuracy: 0.9836 - val_loss: 0.0284 - val_accuracy: 0.9891\n",
            "Epoch 91/100\n",
            "17/17 [==============================] - 11s 619ms/step - loss: 0.0776 - accuracy: 0.9745 - val_loss: 0.0283 - val_accuracy: 0.9927\n",
            "\n",
            "Epoch 00091: ReduceLROnPlateau reducing learning rate to 1.0000000830368326e-17.\n",
            "Epoch 92/100\n",
            "17/17 [==============================] - 11s 623ms/step - loss: 0.0768 - accuracy: 0.9818 - val_loss: 0.0285 - val_accuracy: 0.9891\n",
            "Epoch 93/100\n",
            "17/17 [==============================] - 11s 626ms/step - loss: 0.0662 - accuracy: 0.9799 - val_loss: 0.0284 - val_accuracy: 0.9891\n",
            "Epoch 94/100\n",
            "17/17 [==============================] - 11s 638ms/step - loss: 0.0746 - accuracy: 0.9836 - val_loss: 0.0282 - val_accuracy: 0.9891\n",
            "Epoch 95/100\n",
            "17/17 [==============================] - 11s 675ms/step - loss: 0.0768 - accuracy: 0.9617 - val_loss: 0.0282 - val_accuracy: 0.9891\n",
            "Epoch 96/100\n",
            "17/17 [==============================] - 11s 659ms/step - loss: 0.0895 - accuracy: 0.9708 - val_loss: 0.0285 - val_accuracy: 0.9891\n",
            "\n",
            "Epoch 00096: ReduceLROnPlateau reducing learning rate to 1.0000000664932204e-18.\n",
            "Epoch 97/100\n",
            "17/17 [==============================] - 11s 623ms/step - loss: 0.0784 - accuracy: 0.9708 - val_loss: 0.0284 - val_accuracy: 0.9855\n",
            "Epoch 98/100\n",
            "17/17 [==============================] - 11s 621ms/step - loss: 0.0788 - accuracy: 0.9745 - val_loss: 0.0284 - val_accuracy: 0.9891\n",
            "Epoch 99/100\n",
            "17/17 [==============================] - 11s 629ms/step - loss: 0.0720 - accuracy: 0.9799 - val_loss: 0.0286 - val_accuracy: 0.9891\n",
            "Epoch 100/100\n",
            "17/17 [==============================] - 11s 670ms/step - loss: 0.0971 - accuracy: 0.9690 - val_loss: 0.0288 - val_accuracy: 0.9891\n"
          ],
          "name": "stdout"
        },
        {
          "output_type": "stream",
          "text": [
            "/usr/local/lib/python3.7/dist-packages/tensorflow/python/keras/engine/training.py:2001: UserWarning: `Model.predict_generator` is deprecated and will be removed in a future version. Please use `Model.predict`, which supports generators.\n",
            "  warnings.warn('`Model.predict_generator` is deprecated and '\n"
          ],
          "name": "stderr"
        },
        {
          "output_type": "stream",
          "text": [
            "9/9 [==============================] - 3s 207ms/step\n",
            "***Performance on Validation data***\n",
            "Accuracy  : 0.9890909090909091\n",
            "Precision : 0.989108082000644\n",
            "f1Score : 0.9890862296508334\n",
            "[[120   2]\n",
            " [  1 152]]\n",
            "9/9 [==============================] - 2s 223ms/step - loss: 0.0288 - accuracy: 0.9891\n",
            "Found 549 validated image filenames belonging to 2 classes.\n",
            "Found 274 validated image filenames belonging to 2 classes.\n",
            "Get Callbacks\n"
          ],
          "name": "stdout"
        },
        {
          "output_type": "stream",
          "text": [
            "/usr/local/lib/python3.7/dist-packages/tensorflow/python/keras/engine/training.py:1940: UserWarning: `Model.fit_generator` is deprecated and will be removed in a future version. Please use `Model.fit`, which supports generators.\n",
            "  warnings.warn('`Model.fit_generator` is deprecated and '\n"
          ],
          "name": "stderr"
        },
        {
          "output_type": "stream",
          "text": [
            "Epoch 1/100\n",
            "17/17 [==============================] - 15s 747ms/step - loss: 0.3317 - accuracy: 0.8543 - val_loss: 0.6640 - val_accuracy: 0.5584\n"
          ],
          "name": "stdout"
        },
        {
          "output_type": "stream",
          "text": [
            "/usr/local/lib/python3.7/dist-packages/tensorflow/python/keras/utils/generic_utils.py:497: CustomMaskWarning: Custom mask layers require a config and must override get_config. When loading, the custom mask layer must be passed to the custom_objects argument.\n",
            "  category=CustomMaskWarning)\n"
          ],
          "name": "stderr"
        },
        {
          "output_type": "stream",
          "text": [
            "Epoch 2/100\n",
            "17/17 [==============================] - 12s 682ms/step - loss: 0.1685 - accuracy: 0.9417 - val_loss: 1.1138 - val_accuracy: 0.5584\n",
            "Epoch 3/100\n",
            "17/17 [==============================] - 11s 650ms/step - loss: 0.1444 - accuracy: 0.9454 - val_loss: 1.1262 - val_accuracy: 0.5584\n",
            "Epoch 4/100\n",
            "17/17 [==============================] - 11s 628ms/step - loss: 0.1679 - accuracy: 0.9454 - val_loss: 1.1233 - val_accuracy: 0.5584\n",
            "Epoch 5/100\n",
            "17/17 [==============================] - 11s 623ms/step - loss: 0.1119 - accuracy: 0.9581 - val_loss: 0.9777 - val_accuracy: 0.5584\n",
            "Epoch 6/100\n",
            "17/17 [==============================] - 11s 675ms/step - loss: 0.1403 - accuracy: 0.9454 - val_loss: 0.7014 - val_accuracy: 0.5584\n",
            "\n",
            "Epoch 00006: ReduceLROnPlateau reducing learning rate to 0.00010000000474974513.\n",
            "Epoch 7/100\n",
            "17/17 [==============================] - 12s 676ms/step - loss: 0.0737 - accuracy: 0.9745 - val_loss: 0.6302 - val_accuracy: 0.5584\n",
            "Epoch 8/100\n",
            "17/17 [==============================] - 11s 662ms/step - loss: 0.0932 - accuracy: 0.9727 - val_loss: 0.5689 - val_accuracy: 0.5584\n",
            "Epoch 9/100\n",
            "17/17 [==============================] - 11s 647ms/step - loss: 0.1196 - accuracy: 0.9545 - val_loss: 0.5017 - val_accuracy: 0.5693\n",
            "Epoch 10/100\n",
            "17/17 [==============================] - 11s 642ms/step - loss: 0.0906 - accuracy: 0.9745 - val_loss: 0.4241 - val_accuracy: 0.6241\n",
            "Epoch 11/100\n",
            "17/17 [==============================] - 12s 697ms/step - loss: 0.0842 - accuracy: 0.9727 - val_loss: 0.3638 - val_accuracy: 0.7299\n",
            "Epoch 12/100\n",
            "17/17 [==============================] - 12s 694ms/step - loss: 0.0902 - accuracy: 0.9745 - val_loss: 0.3216 - val_accuracy: 0.8175\n",
            "Epoch 13/100\n",
            "17/17 [==============================] - 11s 644ms/step - loss: 0.0704 - accuracy: 0.9709 - val_loss: 0.2742 - val_accuracy: 0.8869\n",
            "Epoch 14/100\n",
            "17/17 [==============================] - 11s 643ms/step - loss: 0.0791 - accuracy: 0.9745 - val_loss: 0.2298 - val_accuracy: 0.9343\n",
            "Epoch 15/100\n",
            "17/17 [==============================] - 11s 643ms/step - loss: 0.0651 - accuracy: 0.9818 - val_loss: 0.1984 - val_accuracy: 0.9562\n",
            "Epoch 16/100\n",
            "17/17 [==============================] - 11s 663ms/step - loss: 0.0869 - accuracy: 0.9690 - val_loss: 0.1804 - val_accuracy: 0.9672\n",
            "Epoch 17/100\n",
            "17/17 [==============================] - 12s 685ms/step - loss: 0.0886 - accuracy: 0.9727 - val_loss: 0.1674 - val_accuracy: 0.9745\n",
            "Epoch 18/100\n",
            "17/17 [==============================] - 11s 671ms/step - loss: 0.0728 - accuracy: 0.9709 - val_loss: 0.1514 - val_accuracy: 0.9781\n",
            "Epoch 19/100\n",
            "17/17 [==============================] - 11s 649ms/step - loss: 0.0828 - accuracy: 0.9800 - val_loss: 0.1324 - val_accuracy: 0.9781\n",
            "Epoch 20/100\n",
            "17/17 [==============================] - 11s 640ms/step - loss: 0.0605 - accuracy: 0.9818 - val_loss: 0.1130 - val_accuracy: 0.9854\n",
            "Epoch 21/100\n",
            "17/17 [==============================] - 11s 635ms/step - loss: 0.0793 - accuracy: 0.9709 - val_loss: 0.1014 - val_accuracy: 0.9927\n",
            "Epoch 22/100\n",
            "17/17 [==============================] - 12s 687ms/step - loss: 0.0822 - accuracy: 0.9690 - val_loss: 0.0944 - val_accuracy: 0.9927\n",
            "Epoch 23/100\n",
            "17/17 [==============================] - 12s 693ms/step - loss: 0.0658 - accuracy: 0.9781 - val_loss: 0.0816 - val_accuracy: 0.9927\n",
            "Epoch 24/100\n",
            "17/17 [==============================] - 11s 644ms/step - loss: 0.0807 - accuracy: 0.9672 - val_loss: 0.0727 - val_accuracy: 0.9927\n",
            "Epoch 25/100\n",
            "17/17 [==============================] - 11s 652ms/step - loss: 0.0607 - accuracy: 0.9909 - val_loss: 0.0664 - val_accuracy: 0.9927\n",
            "Epoch 26/100\n",
            "17/17 [==============================] - 11s 647ms/step - loss: 0.0842 - accuracy: 0.9690 - val_loss: 0.0618 - val_accuracy: 0.9927\n",
            "\n",
            "Epoch 00026: ReduceLROnPlateau reducing learning rate to 1.0000000474974514e-05.\n",
            "Epoch 27/100\n",
            "17/17 [==============================] - 11s 672ms/step - loss: 0.0653 - accuracy: 0.9781 - val_loss: 0.0567 - val_accuracy: 0.9927\n",
            "Epoch 28/100\n",
            "17/17 [==============================] - 12s 698ms/step - loss: 0.0777 - accuracy: 0.9763 - val_loss: 0.0533 - val_accuracy: 0.9927\n",
            "Epoch 29/100\n",
            "17/17 [==============================] - 11s 666ms/step - loss: 0.0647 - accuracy: 0.9818 - val_loss: 0.0492 - val_accuracy: 0.9927\n",
            "Epoch 30/100\n",
            "17/17 [==============================] - 12s 699ms/step - loss: 0.0752 - accuracy: 0.9672 - val_loss: 0.0465 - val_accuracy: 0.9964\n",
            "Epoch 31/100\n",
            "17/17 [==============================] - 12s 719ms/step - loss: 0.0571 - accuracy: 0.9872 - val_loss: 0.0436 - val_accuracy: 0.9964\n",
            "Epoch 32/100\n",
            "17/17 [==============================] - 11s 671ms/step - loss: 0.0631 - accuracy: 0.9763 - val_loss: 0.0403 - val_accuracy: 0.9964\n",
            "Epoch 33/100\n",
            "17/17 [==============================] - 11s 699ms/step - loss: 0.0725 - accuracy: 0.9800 - val_loss: 0.0378 - val_accuracy: 0.9964\n",
            "Epoch 34/100\n",
            "17/17 [==============================] - 11s 640ms/step - loss: 0.0703 - accuracy: 0.9800 - val_loss: 0.0356 - val_accuracy: 0.9964\n",
            "Epoch 35/100\n",
            "17/17 [==============================] - 12s 679ms/step - loss: 0.0611 - accuracy: 0.9781 - val_loss: 0.0340 - val_accuracy: 0.9964\n",
            "\n",
            "Epoch 00035: ReduceLROnPlateau reducing learning rate to 1.0000000656873453e-06.\n",
            "Epoch 36/100\n",
            "17/17 [==============================] - 12s 695ms/step - loss: 0.0657 - accuracy: 0.9763 - val_loss: 0.0316 - val_accuracy: 0.9964\n",
            "Epoch 37/100\n",
            "17/17 [==============================] - 11s 670ms/step - loss: 0.0802 - accuracy: 0.9690 - val_loss: 0.0306 - val_accuracy: 0.9964\n",
            "Epoch 38/100\n",
            "17/17 [==============================] - 11s 643ms/step - loss: 0.0688 - accuracy: 0.9854 - val_loss: 0.0292 - val_accuracy: 0.9964\n",
            "Epoch 39/100\n",
            "17/17 [==============================] - 11s 643ms/step - loss: 0.0558 - accuracy: 0.9854 - val_loss: 0.0284 - val_accuracy: 0.9964\n",
            "Epoch 40/100\n",
            "17/17 [==============================] - 11s 637ms/step - loss: 0.0876 - accuracy: 0.9727 - val_loss: 0.0281 - val_accuracy: 0.9964\n",
            "\n",
            "Epoch 00040: ReduceLROnPlateau reducing learning rate to 1.0000001111620805e-07.\n",
            "Epoch 41/100\n",
            "17/17 [==============================] - 12s 696ms/step - loss: 0.0648 - accuracy: 0.9800 - val_loss: 0.0275 - val_accuracy: 0.9964\n",
            "Epoch 42/100\n",
            "17/17 [==============================] - 12s 677ms/step - loss: 0.0646 - accuracy: 0.9854 - val_loss: 0.0271 - val_accuracy: 0.9964\n",
            "Epoch 43/100\n",
            "17/17 [==============================] - 11s 668ms/step - loss: 0.0623 - accuracy: 0.9781 - val_loss: 0.0277 - val_accuracy: 0.9964\n",
            "Epoch 44/100\n",
            "17/17 [==============================] - 11s 661ms/step - loss: 0.0597 - accuracy: 0.9800 - val_loss: 0.0277 - val_accuracy: 0.9964\n",
            "Epoch 45/100\n",
            "17/17 [==============================] - 11s 642ms/step - loss: 0.0816 - accuracy: 0.9763 - val_loss: 0.0274 - val_accuracy: 0.9964\n",
            "\n",
            "Epoch 00045: ReduceLROnPlateau reducing learning rate to 1.000000082740371e-08.\n",
            "Epoch 46/100\n",
            "17/17 [==============================] - 12s 678ms/step - loss: 0.0793 - accuracy: 0.9745 - val_loss: 0.0276 - val_accuracy: 0.9964\n",
            "Epoch 47/100\n",
            "17/17 [==============================] - 11s 669ms/step - loss: 0.0858 - accuracy: 0.9672 - val_loss: 0.0280 - val_accuracy: 0.9964\n",
            "Epoch 48/100\n",
            "17/17 [==============================] - 11s 626ms/step - loss: 0.0575 - accuracy: 0.9836 - val_loss: 0.0271 - val_accuracy: 0.9964\n",
            "Epoch 49/100\n",
            "17/17 [==============================] - 11s 689ms/step - loss: 0.0935 - accuracy: 0.9636 - val_loss: 0.0265 - val_accuracy: 0.9964\n",
            "Epoch 50/100\n",
            "17/17 [==============================] - 11s 644ms/step - loss: 0.0688 - accuracy: 0.9745 - val_loss: 0.0261 - val_accuracy: 0.9964\n",
            "\n",
            "Epoch 00050: ReduceLROnPlateau reducing learning rate to 1.000000082740371e-09.\n",
            "Epoch 51/100\n",
            "17/17 [==============================] - 12s 688ms/step - loss: 0.0697 - accuracy: 0.9800 - val_loss: 0.0259 - val_accuracy: 0.9964\n",
            "Epoch 52/100\n",
            "17/17 [==============================] - 12s 704ms/step - loss: 0.0707 - accuracy: 0.9745 - val_loss: 0.0258 - val_accuracy: 0.9964\n",
            "Epoch 53/100\n",
            "17/17 [==============================] - 11s 650ms/step - loss: 0.0662 - accuracy: 0.9709 - val_loss: 0.0255 - val_accuracy: 0.9964\n",
            "Epoch 54/100\n",
            "17/17 [==============================] - 12s 699ms/step - loss: 0.0775 - accuracy: 0.9672 - val_loss: 0.0260 - val_accuracy: 0.9964\n",
            "Epoch 55/100\n",
            "17/17 [==============================] - 11s 702ms/step - loss: 0.0507 - accuracy: 0.9836 - val_loss: 0.0260 - val_accuracy: 0.9964\n",
            "\n",
            "Epoch 00055: ReduceLROnPlateau reducing learning rate to 1.000000082740371e-10.\n",
            "Epoch 56/100\n",
            "17/17 [==============================] - 11s 630ms/step - loss: 0.0828 - accuracy: 0.9727 - val_loss: 0.0261 - val_accuracy: 0.9964\n",
            "Epoch 57/100\n",
            "17/17 [==============================] - 11s 635ms/step - loss: 0.0671 - accuracy: 0.9763 - val_loss: 0.0263 - val_accuracy: 0.9964\n",
            "Epoch 58/100\n",
            "17/17 [==============================] - 11s 625ms/step - loss: 0.0724 - accuracy: 0.9763 - val_loss: 0.0270 - val_accuracy: 0.9964\n",
            "Epoch 59/100\n",
            "17/17 [==============================] - 11s 634ms/step - loss: 0.0648 - accuracy: 0.9781 - val_loss: 0.0273 - val_accuracy: 0.9964\n",
            "Epoch 60/100\n",
            "17/17 [==============================] - 12s 678ms/step - loss: 0.0609 - accuracy: 0.9763 - val_loss: 0.0269 - val_accuracy: 0.9964\n",
            "\n",
            "Epoch 00060: ReduceLROnPlateau reducing learning rate to 1.000000082740371e-11.\n",
            "Epoch 61/100\n",
            "17/17 [==============================] - 12s 679ms/step - loss: 0.0542 - accuracy: 0.9891 - val_loss: 0.0267 - val_accuracy: 0.9964\n",
            "Epoch 62/100\n",
            "17/17 [==============================] - 11s 663ms/step - loss: 0.0868 - accuracy: 0.9672 - val_loss: 0.0266 - val_accuracy: 0.9964\n",
            "Epoch 63/100\n",
            "17/17 [==============================] - 11s 624ms/step - loss: 0.0945 - accuracy: 0.9617 - val_loss: 0.0271 - val_accuracy: 0.9964\n",
            "Epoch 64/100\n",
            "17/17 [==============================] - 11s 627ms/step - loss: 0.0524 - accuracy: 0.9872 - val_loss: 0.0272 - val_accuracy: 0.9964\n",
            "Epoch 65/100\n",
            "17/17 [==============================] - 11s 669ms/step - loss: 0.0560 - accuracy: 0.9818 - val_loss: 0.0276 - val_accuracy: 0.9964\n",
            "\n",
            "Epoch 00065: ReduceLROnPlateau reducing learning rate to 1.000000082740371e-12.\n",
            "Epoch 66/100\n",
            "17/17 [==============================] - 11s 674ms/step - loss: 0.0699 - accuracy: 0.9709 - val_loss: 0.0277 - val_accuracy: 0.9964\n",
            "Epoch 67/100\n",
            "17/17 [==============================] - 11s 667ms/step - loss: 0.0711 - accuracy: 0.9781 - val_loss: 0.0270 - val_accuracy: 0.9964\n",
            "Epoch 68/100\n",
            "17/17 [==============================] - 11s 624ms/step - loss: 0.0690 - accuracy: 0.9763 - val_loss: 0.0266 - val_accuracy: 0.9964\n",
            "Epoch 69/100\n",
            "17/17 [==============================] - 11s 627ms/step - loss: 0.0792 - accuracy: 0.9800 - val_loss: 0.0264 - val_accuracy: 0.9964\n",
            "Epoch 70/100\n",
            "17/17 [==============================] - 11s 625ms/step - loss: 0.0784 - accuracy: 0.9727 - val_loss: 0.0263 - val_accuracy: 0.9964\n",
            "\n",
            "Epoch 00070: ReduceLROnPlateau reducing learning rate to 1.0000001044244145e-13.\n",
            "Epoch 71/100\n",
            "17/17 [==============================] - 11s 632ms/step - loss: 0.0970 - accuracy: 0.9690 - val_loss: 0.0264 - val_accuracy: 0.9964\n",
            "Epoch 72/100\n",
            "17/17 [==============================] - 11s 669ms/step - loss: 0.0530 - accuracy: 0.9891 - val_loss: 0.0263 - val_accuracy: 0.9964\n",
            "Epoch 73/100\n",
            "17/17 [==============================] - 11s 669ms/step - loss: 0.0700 - accuracy: 0.9854 - val_loss: 0.0257 - val_accuracy: 0.9964\n",
            "Epoch 74/100\n",
            "17/17 [==============================] - 11s 621ms/step - loss: 0.0749 - accuracy: 0.9763 - val_loss: 0.0259 - val_accuracy: 0.9964\n",
            "Epoch 75/100\n",
            "17/17 [==============================] - 11s 624ms/step - loss: 0.0748 - accuracy: 0.9690 - val_loss: 0.0265 - val_accuracy: 0.9964\n",
            "\n",
            "Epoch 00075: ReduceLROnPlateau reducing learning rate to 1.0000001179769417e-14.\n",
            "Epoch 76/100\n",
            "17/17 [==============================] - 11s 636ms/step - loss: 0.0650 - accuracy: 0.9800 - val_loss: 0.0270 - val_accuracy: 0.9964\n",
            "Epoch 77/100\n",
            "17/17 [==============================] - 11s 634ms/step - loss: 0.0786 - accuracy: 0.9745 - val_loss: 0.0272 - val_accuracy: 0.9964\n",
            "Epoch 78/100\n",
            "17/17 [==============================] - 11s 671ms/step - loss: 0.0844 - accuracy: 0.9709 - val_loss: 0.0270 - val_accuracy: 0.9964\n",
            "Epoch 79/100\n",
            "17/17 [==============================] - 11s 670ms/step - loss: 0.0714 - accuracy: 0.9781 - val_loss: 0.0267 - val_accuracy: 0.9964\n",
            "Epoch 80/100\n",
            "17/17 [==============================] - 11s 659ms/step - loss: 0.0621 - accuracy: 0.9800 - val_loss: 0.0271 - val_accuracy: 0.9964\n",
            "\n",
            "Epoch 00080: ReduceLROnPlateau reducing learning rate to 1.0000001518582595e-15.\n",
            "Epoch 81/100\n",
            "17/17 [==============================] - 12s 678ms/step - loss: 0.0616 - accuracy: 0.9854 - val_loss: 0.0270 - val_accuracy: 0.9964\n",
            "Epoch 82/100\n",
            "17/17 [==============================] - 11s 657ms/step - loss: 0.0901 - accuracy: 0.9727 - val_loss: 0.0274 - val_accuracy: 0.9964\n",
            "Epoch 83/100\n",
            "17/17 [==============================] - 11s 625ms/step - loss: 0.0799 - accuracy: 0.9690 - val_loss: 0.0277 - val_accuracy: 0.9964\n",
            "Epoch 84/100\n",
            "17/17 [==============================] - 11s 626ms/step - loss: 0.0721 - accuracy: 0.9781 - val_loss: 0.0273 - val_accuracy: 0.9964\n",
            "Epoch 85/100\n",
            "17/17 [==============================] - 11s 629ms/step - loss: 0.0802 - accuracy: 0.9672 - val_loss: 0.0270 - val_accuracy: 0.9964\n",
            "\n",
            "Epoch 00085: ReduceLROnPlateau reducing learning rate to 1.0000001095066122e-16.\n",
            "Epoch 86/100\n",
            "17/17 [==============================] - 11s 644ms/step - loss: 0.0647 - accuracy: 0.9818 - val_loss: 0.0267 - val_accuracy: 0.9964\n",
            "Epoch 87/100\n",
            "17/17 [==============================] - 12s 706ms/step - loss: 0.0792 - accuracy: 0.9745 - val_loss: 0.0260 - val_accuracy: 0.9964\n",
            "Epoch 88/100\n",
            "17/17 [==============================] - 11s 667ms/step - loss: 0.0715 - accuracy: 0.9709 - val_loss: 0.0261 - val_accuracy: 0.9964\n",
            "Epoch 89/100\n",
            "17/17 [==============================] - 11s 632ms/step - loss: 0.0663 - accuracy: 0.9800 - val_loss: 0.0267 - val_accuracy: 0.9964\n",
            "Epoch 90/100\n",
            "17/17 [==============================] - 11s 630ms/step - loss: 0.0735 - accuracy: 0.9709 - val_loss: 0.0269 - val_accuracy: 0.9964\n",
            "\n",
            "Epoch 00090: ReduceLROnPlateau reducing learning rate to 1.0000000830368326e-17.\n",
            "Epoch 91/100\n",
            "17/17 [==============================] - 11s 619ms/step - loss: 0.0585 - accuracy: 0.9836 - val_loss: 0.0266 - val_accuracy: 0.9964\n",
            "Epoch 92/100\n",
            "17/17 [==============================] - 11s 638ms/step - loss: 0.0751 - accuracy: 0.9745 - val_loss: 0.0265 - val_accuracy: 0.9964\n",
            "Epoch 93/100\n",
            "17/17 [==============================] - 11s 669ms/step - loss: 0.0728 - accuracy: 0.9727 - val_loss: 0.0256 - val_accuracy: 0.9964\n",
            "Epoch 94/100\n",
            "17/17 [==============================] - 11s 625ms/step - loss: 0.0705 - accuracy: 0.9800 - val_loss: 0.0264 - val_accuracy: 0.9964\n",
            "Epoch 95/100\n",
            "17/17 [==============================] - 11s 622ms/step - loss: 0.0518 - accuracy: 0.9800 - val_loss: 0.0270 - val_accuracy: 0.9964\n",
            "\n",
            "Epoch 00095: ReduceLROnPlateau reducing learning rate to 1.0000000664932204e-18.\n",
            "Epoch 96/100\n",
            "17/17 [==============================] - 11s 622ms/step - loss: 0.0850 - accuracy: 0.9745 - val_loss: 0.0270 - val_accuracy: 0.9964\n",
            "Epoch 97/100\n",
            "17/17 [==============================] - 11s 629ms/step - loss: 0.0815 - accuracy: 0.9672 - val_loss: 0.0278 - val_accuracy: 0.9964\n",
            "Epoch 98/100\n",
            "17/17 [==============================] - 11s 671ms/step - loss: 0.0669 - accuracy: 0.9800 - val_loss: 0.0279 - val_accuracy: 0.9964\n",
            "Epoch 99/100\n",
            "17/17 [==============================] - 11s 672ms/step - loss: 0.0712 - accuracy: 0.9818 - val_loss: 0.0278 - val_accuracy: 0.9964\n",
            "Epoch 100/100\n",
            "17/17 [==============================] - 11s 627ms/step - loss: 0.0559 - accuracy: 0.9854 - val_loss: 0.0279 - val_accuracy: 0.9964\n",
            "\n",
            "Epoch 00100: ReduceLROnPlateau reducing learning rate to 1.000000045813705e-19.\n"
          ],
          "name": "stdout"
        },
        {
          "output_type": "stream",
          "text": [
            "/usr/local/lib/python3.7/dist-packages/tensorflow/python/keras/engine/training.py:2001: UserWarning: `Model.predict_generator` is deprecated and will be removed in a future version. Please use `Model.predict`, which supports generators.\n",
            "  warnings.warn('`Model.predict_generator` is deprecated and '\n"
          ],
          "name": "stderr"
        },
        {
          "output_type": "stream",
          "text": [
            "9/9 [==============================] - 3s 196ms/step\n",
            "***Performance on Validation data***\n",
            "Accuracy  : 0.9963503649635036\n",
            "Precision : 0.996374063892312\n",
            "f1Score : 0.9963487371375856\n",
            "[[120   1]\n",
            " [  0 153]]\n",
            "9/9 [==============================] - 2s 209ms/step - loss: 0.0279 - accuracy: 0.9964\n",
            "Found 549 validated image filenames belonging to 2 classes.\n",
            "Found 274 validated image filenames belonging to 2 classes.\n",
            "Get Callbacks\n"
          ],
          "name": "stdout"
        },
        {
          "output_type": "stream",
          "text": [
            "/usr/local/lib/python3.7/dist-packages/tensorflow/python/keras/engine/training.py:1940: UserWarning: `Model.fit_generator` is deprecated and will be removed in a future version. Please use `Model.fit`, which supports generators.\n",
            "  warnings.warn('`Model.fit_generator` is deprecated and '\n"
          ],
          "name": "stderr"
        },
        {
          "output_type": "stream",
          "text": [
            "Epoch 1/100\n",
            "17/17 [==============================] - 14s 679ms/step - loss: 0.3609 - accuracy: 0.8379 - val_loss: 0.9113 - val_accuracy: 0.5584\n"
          ],
          "name": "stdout"
        },
        {
          "output_type": "stream",
          "text": [
            "/usr/local/lib/python3.7/dist-packages/tensorflow/python/keras/utils/generic_utils.py:497: CustomMaskWarning: Custom mask layers require a config and must override get_config. When loading, the custom mask layer must be passed to the custom_objects argument.\n",
            "  category=CustomMaskWarning)\n"
          ],
          "name": "stderr"
        },
        {
          "output_type": "stream",
          "text": [
            "Epoch 2/100\n",
            "17/17 [==============================] - 12s 684ms/step - loss: 0.1616 - accuracy: 0.9526 - val_loss: 1.4212 - val_accuracy: 0.5584\n",
            "Epoch 3/100\n",
            "17/17 [==============================] - 11s 635ms/step - loss: 0.1456 - accuracy: 0.9563 - val_loss: 1.3859 - val_accuracy: 0.5584\n",
            "Epoch 4/100\n",
            "17/17 [==============================] - 11s 622ms/step - loss: 0.1031 - accuracy: 0.9636 - val_loss: 1.1789 - val_accuracy: 0.5584\n",
            "Epoch 5/100\n",
            "17/17 [==============================] - 11s 625ms/step - loss: 0.0797 - accuracy: 0.9745 - val_loss: 1.0710 - val_accuracy: 0.5584\n",
            "Epoch 6/100\n",
            "17/17 [==============================] - 11s 653ms/step - loss: 0.0768 - accuracy: 0.9745 - val_loss: 1.2297 - val_accuracy: 0.5584\n",
            "\n",
            "Epoch 00006: ReduceLROnPlateau reducing learning rate to 0.00010000000474974513.\n",
            "Epoch 7/100\n",
            "17/17 [==============================] - 11s 664ms/step - loss: 0.0891 - accuracy: 0.9672 - val_loss: 1.0676 - val_accuracy: 0.5584\n",
            "Epoch 8/100\n",
            "17/17 [==============================] - 11s 673ms/step - loss: 0.0716 - accuracy: 0.9763 - val_loss: 0.8646 - val_accuracy: 0.5584\n",
            "Epoch 9/100\n",
            "17/17 [==============================] - 11s 649ms/step - loss: 0.0739 - accuracy: 0.9690 - val_loss: 0.7300 - val_accuracy: 0.5584\n",
            "Epoch 10/100\n",
            "17/17 [==============================] - 12s 688ms/step - loss: 0.1442 - accuracy: 0.9472 - val_loss: 0.6170 - val_accuracy: 0.5620\n",
            "Epoch 11/100\n",
            "17/17 [==============================] - 12s 682ms/step - loss: 0.0577 - accuracy: 0.9800 - val_loss: 0.5051 - val_accuracy: 0.5949\n",
            "Epoch 12/100\n",
            "17/17 [==============================] - 11s 638ms/step - loss: 0.0599 - accuracy: 0.9836 - val_loss: 0.4136 - val_accuracy: 0.6971\n",
            "Epoch 13/100\n",
            "17/17 [==============================] - 11s 654ms/step - loss: 0.0997 - accuracy: 0.9654 - val_loss: 0.3585 - val_accuracy: 0.7555\n",
            "Epoch 14/100\n",
            "17/17 [==============================] - 13s 634ms/step - loss: 0.0629 - accuracy: 0.9836 - val_loss: 0.3118 - val_accuracy: 0.8212\n",
            "Epoch 15/100\n",
            "17/17 [==============================] - 12s 687ms/step - loss: 0.0741 - accuracy: 0.9781 - val_loss: 0.2446 - val_accuracy: 0.8942\n",
            "Epoch 16/100\n",
            "17/17 [==============================] - 12s 686ms/step - loss: 0.0774 - accuracy: 0.9672 - val_loss: 0.2031 - val_accuracy: 0.9197\n",
            "Epoch 17/100\n",
            "17/17 [==============================] - 11s 641ms/step - loss: 0.0868 - accuracy: 0.9654 - val_loss: 0.1744 - val_accuracy: 0.9635\n",
            "Epoch 18/100\n",
            "17/17 [==============================] - 11s 649ms/step - loss: 0.0710 - accuracy: 0.9818 - val_loss: 0.1350 - val_accuracy: 0.9891\n",
            "Epoch 19/100\n",
            "17/17 [==============================] - 11s 643ms/step - loss: 0.0746 - accuracy: 0.9763 - val_loss: 0.1152 - val_accuracy: 0.9891\n",
            "Epoch 20/100\n",
            "17/17 [==============================] - 11s 670ms/step - loss: 0.0704 - accuracy: 0.9745 - val_loss: 0.1012 - val_accuracy: 0.9891\n",
            "Epoch 21/100\n",
            "17/17 [==============================] - 12s 688ms/step - loss: 0.0690 - accuracy: 0.9745 - val_loss: 0.0939 - val_accuracy: 0.9927\n",
            "Epoch 22/100\n",
            "17/17 [==============================] - 11s 666ms/step - loss: 0.0701 - accuracy: 0.9727 - val_loss: 0.0874 - val_accuracy: 0.9927\n",
            "Epoch 23/100\n",
            "17/17 [==============================] - 11s 645ms/step - loss: 0.0583 - accuracy: 0.9800 - val_loss: 0.0769 - val_accuracy: 0.9927\n",
            "Epoch 24/100\n",
            "17/17 [==============================] - 11s 641ms/step - loss: 0.0953 - accuracy: 0.9636 - val_loss: 0.0659 - val_accuracy: 0.9927\n",
            "Epoch 25/100\n",
            "17/17 [==============================] - 11s 646ms/step - loss: 0.0685 - accuracy: 0.9763 - val_loss: 0.0635 - val_accuracy: 0.9927\n",
            "Epoch 26/100\n",
            "17/17 [==============================] - 12s 691ms/step - loss: 0.0852 - accuracy: 0.9636 - val_loss: 0.0578 - val_accuracy: 0.9927\n",
            "\n",
            "Epoch 00026: ReduceLROnPlateau reducing learning rate to 1.0000000474974514e-05.\n",
            "Epoch 27/100\n",
            "17/17 [==============================] - 12s 693ms/step - loss: 0.1158 - accuracy: 0.9581 - val_loss: 0.0538 - val_accuracy: 0.9927\n",
            "Epoch 28/100\n",
            "17/17 [==============================] - 11s 639ms/step - loss: 0.0631 - accuracy: 0.9800 - val_loss: 0.0500 - val_accuracy: 0.9927\n",
            "Epoch 29/100\n",
            "17/17 [==============================] - 11s 644ms/step - loss: 0.0587 - accuracy: 0.9800 - val_loss: 0.0467 - val_accuracy: 0.9927\n",
            "Epoch 30/100\n",
            "17/17 [==============================] - 11s 641ms/step - loss: 0.0726 - accuracy: 0.9709 - val_loss: 0.0437 - val_accuracy: 0.9891\n",
            "Epoch 31/100\n",
            "17/17 [==============================] - 11s 666ms/step - loss: 0.0849 - accuracy: 0.9727 - val_loss: 0.0410 - val_accuracy: 0.9927\n",
            "\n",
            "Epoch 00031: ReduceLROnPlateau reducing learning rate to 1.0000000656873453e-06.\n",
            "Epoch 32/100\n",
            "17/17 [==============================] - 12s 693ms/step - loss: 0.0772 - accuracy: 0.9800 - val_loss: 0.0392 - val_accuracy: 0.9927\n",
            "Epoch 33/100\n",
            "17/17 [==============================] - 11s 670ms/step - loss: 0.0710 - accuracy: 0.9763 - val_loss: 0.0378 - val_accuracy: 0.9927\n",
            "Epoch 34/100\n",
            "17/17 [==============================] - 12s 681ms/step - loss: 0.0721 - accuracy: 0.9745 - val_loss: 0.0359 - val_accuracy: 0.9927\n",
            "Epoch 35/100\n",
            "17/17 [==============================] - 12s 726ms/step - loss: 0.0607 - accuracy: 0.9781 - val_loss: 0.0347 - val_accuracy: 0.9927\n",
            "Epoch 36/100\n",
            "17/17 [==============================] - 11s 648ms/step - loss: 0.0616 - accuracy: 0.9800 - val_loss: 0.0335 - val_accuracy: 0.9927\n",
            "\n",
            "Epoch 00036: ReduceLROnPlateau reducing learning rate to 1.0000001111620805e-07.\n",
            "Epoch 37/100\n",
            "17/17 [==============================] - 11s 651ms/step - loss: 0.0806 - accuracy: 0.9727 - val_loss: 0.0327 - val_accuracy: 0.9927\n",
            "Epoch 38/100\n",
            "17/17 [==============================] - 11s 651ms/step - loss: 0.0791 - accuracy: 0.9763 - val_loss: 0.0319 - val_accuracy: 0.9927\n",
            "Epoch 39/100\n",
            "17/17 [==============================] - 11s 665ms/step - loss: 0.0710 - accuracy: 0.9836 - val_loss: 0.0314 - val_accuracy: 0.9927\n",
            "Epoch 40/100\n",
            "17/17 [==============================] - 12s 698ms/step - loss: 0.0789 - accuracy: 0.9709 - val_loss: 0.0310 - val_accuracy: 0.9927\n",
            "Epoch 41/100\n",
            "17/17 [==============================] - 11s 665ms/step - loss: 0.0705 - accuracy: 0.9763 - val_loss: 0.0305 - val_accuracy: 0.9927\n",
            "\n",
            "Epoch 00041: ReduceLROnPlateau reducing learning rate to 1.000000082740371e-08.\n",
            "Epoch 42/100\n",
            "17/17 [==============================] - 11s 641ms/step - loss: 0.0764 - accuracy: 0.9709 - val_loss: 0.0301 - val_accuracy: 0.9927\n",
            "Epoch 43/100\n",
            "17/17 [==============================] - 13s 794ms/step - loss: 0.0630 - accuracy: 0.9800 - val_loss: 0.0296 - val_accuracy: 0.9927\n",
            "Epoch 44/100\n",
            "17/17 [==============================] - 11s 659ms/step - loss: 0.0487 - accuracy: 0.9891 - val_loss: 0.0292 - val_accuracy: 0.9927\n",
            "Epoch 45/100\n",
            "17/17 [==============================] - 12s 692ms/step - loss: 0.0838 - accuracy: 0.9690 - val_loss: 0.0292 - val_accuracy: 0.9927\n",
            "Epoch 46/100\n",
            "17/17 [==============================] - 11s 641ms/step - loss: 0.0639 - accuracy: 0.9800 - val_loss: 0.0287 - val_accuracy: 0.9927\n",
            "\n",
            "Epoch 00046: ReduceLROnPlateau reducing learning rate to 1.000000082740371e-09.\n",
            "Epoch 47/100\n",
            "17/17 [==============================] - 11s 648ms/step - loss: 0.0663 - accuracy: 0.9727 - val_loss: 0.0284 - val_accuracy: 0.9927\n",
            "Epoch 48/100\n",
            "17/17 [==============================] - 11s 643ms/step - loss: 0.0511 - accuracy: 0.9836 - val_loss: 0.0283 - val_accuracy: 0.9927\n",
            "Epoch 49/100\n",
            "17/17 [==============================] - 11s 674ms/step - loss: 0.0605 - accuracy: 0.9854 - val_loss: 0.0284 - val_accuracy: 0.9927\n",
            "Epoch 50/100\n",
            "17/17 [==============================] - 11s 672ms/step - loss: 0.0781 - accuracy: 0.9709 - val_loss: 0.0286 - val_accuracy: 0.9927\n",
            "Epoch 51/100\n",
            "17/17 [==============================] - 11s 651ms/step - loss: 0.0614 - accuracy: 0.9818 - val_loss: 0.0288 - val_accuracy: 0.9891\n",
            "\n",
            "Epoch 00051: ReduceLROnPlateau reducing learning rate to 1.000000082740371e-10.\n",
            "Epoch 52/100\n",
            "17/17 [==============================] - 11s 629ms/step - loss: 0.0495 - accuracy: 0.9927 - val_loss: 0.0289 - val_accuracy: 0.9891\n",
            "Epoch 53/100\n",
            "17/17 [==============================] - 11s 623ms/step - loss: 0.0649 - accuracy: 0.9781 - val_loss: 0.0289 - val_accuracy: 0.9891\n",
            "Epoch 54/100\n",
            "17/17 [==============================] - 11s 631ms/step - loss: 0.0570 - accuracy: 0.9818 - val_loss: 0.0286 - val_accuracy: 0.9891\n",
            "Epoch 55/100\n",
            "17/17 [==============================] - 11s 656ms/step - loss: 0.0739 - accuracy: 0.9763 - val_loss: 0.0286 - val_accuracy: 0.9891\n",
            "Epoch 56/100\n",
            "17/17 [==============================] - 12s 675ms/step - loss: 0.0576 - accuracy: 0.9836 - val_loss: 0.0286 - val_accuracy: 0.9891\n",
            "\n",
            "Epoch 00056: ReduceLROnPlateau reducing learning rate to 1.000000082740371e-11.\n",
            "Epoch 57/100\n",
            "17/17 [==============================] - 11s 688ms/step - loss: 0.0541 - accuracy: 0.9836 - val_loss: 0.0283 - val_accuracy: 0.9927\n",
            "Epoch 58/100\n",
            "17/17 [==============================] - 11s 646ms/step - loss: 0.0572 - accuracy: 0.9836 - val_loss: 0.0286 - val_accuracy: 0.9891\n",
            "Epoch 59/100\n",
            "17/17 [==============================] - 11s 637ms/step - loss: 0.0661 - accuracy: 0.9800 - val_loss: 0.0289 - val_accuracy: 0.9891\n",
            "Epoch 60/100\n",
            "17/17 [==============================] - 11s 622ms/step - loss: 0.0615 - accuracy: 0.9763 - val_loss: 0.0288 - val_accuracy: 0.9891\n",
            "Epoch 61/100\n",
            "17/17 [==============================] - 11s 668ms/step - loss: 0.0639 - accuracy: 0.9800 - val_loss: 0.0286 - val_accuracy: 0.9891\n",
            "\n",
            "Epoch 00061: ReduceLROnPlateau reducing learning rate to 1.000000082740371e-12.\n",
            "Epoch 62/100\n",
            "17/17 [==============================] - 11s 673ms/step - loss: 0.0737 - accuracy: 0.9709 - val_loss: 0.0283 - val_accuracy: 0.9927\n",
            "Epoch 63/100\n",
            "17/17 [==============================] - 11s 636ms/step - loss: 0.0570 - accuracy: 0.9800 - val_loss: 0.0284 - val_accuracy: 0.9927\n",
            "Epoch 64/100\n",
            "17/17 [==============================] - 12s 683ms/step - loss: 0.0611 - accuracy: 0.9836 - val_loss: 0.0281 - val_accuracy: 0.9927\n",
            "Epoch 65/100\n",
            "17/17 [==============================] - 12s 697ms/step - loss: 0.0824 - accuracy: 0.9654 - val_loss: 0.0283 - val_accuracy: 0.9927\n",
            "Epoch 66/100\n",
            "17/17 [==============================] - 11s 629ms/step - loss: 0.0717 - accuracy: 0.9745 - val_loss: 0.0281 - val_accuracy: 0.9927\n",
            "\n",
            "Epoch 00066: ReduceLROnPlateau reducing learning rate to 1.0000001044244145e-13.\n",
            "Epoch 67/100\n",
            "17/17 [==============================] - 11s 629ms/step - loss: 0.0684 - accuracy: 0.9800 - val_loss: 0.0281 - val_accuracy: 0.9927\n",
            "Epoch 68/100\n",
            "17/17 [==============================] - 11s 641ms/step - loss: 0.0884 - accuracy: 0.9581 - val_loss: 0.0281 - val_accuracy: 0.9927\n",
            "Epoch 69/100\n",
            "17/17 [==============================] - 11s 652ms/step - loss: 0.0789 - accuracy: 0.9781 - val_loss: 0.0281 - val_accuracy: 0.9927\n",
            "Epoch 70/100\n",
            "17/17 [==============================] - 11s 672ms/step - loss: 0.0827 - accuracy: 0.9763 - val_loss: 0.0282 - val_accuracy: 0.9927\n",
            "Epoch 71/100\n",
            "17/17 [==============================] - 11s 658ms/step - loss: 0.0623 - accuracy: 0.9800 - val_loss: 0.0281 - val_accuracy: 0.9927\n",
            "\n",
            "Epoch 00071: ReduceLROnPlateau reducing learning rate to 1.0000001179769417e-14.\n",
            "Epoch 72/100\n",
            "17/17 [==============================] - 11s 646ms/step - loss: 0.0791 - accuracy: 0.9709 - val_loss: 0.0281 - val_accuracy: 0.9927\n",
            "Epoch 73/100\n",
            "17/17 [==============================] - 11s 629ms/step - loss: 0.0825 - accuracy: 0.9672 - val_loss: 0.0282 - val_accuracy: 0.9891\n",
            "Epoch 74/100\n",
            "17/17 [==============================] - 11s 624ms/step - loss: 0.0672 - accuracy: 0.9745 - val_loss: 0.0284 - val_accuracy: 0.9891\n",
            "Epoch 75/100\n",
            "17/17 [==============================] - 11s 660ms/step - loss: 0.0649 - accuracy: 0.9818 - val_loss: 0.0281 - val_accuracy: 0.9927\n",
            "Epoch 76/100\n",
            "17/17 [==============================] - 11s 671ms/step - loss: 0.0648 - accuracy: 0.9781 - val_loss: 0.0282 - val_accuracy: 0.9927\n",
            "\n",
            "Epoch 00076: ReduceLROnPlateau reducing learning rate to 1.0000001518582595e-15.\n",
            "Epoch 77/100\n",
            "17/17 [==============================] - 11s 675ms/step - loss: 0.0686 - accuracy: 0.9745 - val_loss: 0.0281 - val_accuracy: 0.9927\n",
            "Epoch 78/100\n",
            "17/17 [==============================] - 11s 628ms/step - loss: 0.0653 - accuracy: 0.9800 - val_loss: 0.0283 - val_accuracy: 0.9891\n",
            "Epoch 79/100\n",
            "17/17 [==============================] - 11s 628ms/step - loss: 0.0581 - accuracy: 0.9818 - val_loss: 0.0284 - val_accuracy: 0.9891\n",
            "Epoch 80/100\n",
            "17/17 [==============================] - 11s 630ms/step - loss: 0.0630 - accuracy: 0.9727 - val_loss: 0.0285 - val_accuracy: 0.9891\n",
            "Epoch 81/100\n",
            "17/17 [==============================] - 11s 673ms/step - loss: 0.0691 - accuracy: 0.9781 - val_loss: 0.0281 - val_accuracy: 0.9927\n",
            "\n",
            "Epoch 00081: ReduceLROnPlateau reducing learning rate to 1.0000001095066122e-16.\n",
            "Epoch 82/100\n",
            "17/17 [==============================] - 11s 660ms/step - loss: 0.0497 - accuracy: 0.9800 - val_loss: 0.0283 - val_accuracy: 0.9891\n",
            "Epoch 83/100\n",
            "17/17 [==============================] - 11s 640ms/step - loss: 0.0547 - accuracy: 0.9818 - val_loss: 0.0282 - val_accuracy: 0.9927\n",
            "Epoch 84/100\n",
            "17/17 [==============================] - 11s 631ms/step - loss: 0.0666 - accuracy: 0.9745 - val_loss: 0.0282 - val_accuracy: 0.9927\n",
            "Epoch 85/100\n",
            "17/17 [==============================] - 11s 647ms/step - loss: 0.0618 - accuracy: 0.9800 - val_loss: 0.0282 - val_accuracy: 0.9891\n",
            "Epoch 86/100\n",
            "17/17 [==============================] - 12s 719ms/step - loss: 0.0824 - accuracy: 0.9654 - val_loss: 0.0282 - val_accuracy: 0.9927\n",
            "\n",
            "Epoch 00086: ReduceLROnPlateau reducing learning rate to 1.0000000830368326e-17.\n",
            "Epoch 87/100\n",
            "17/17 [==============================] - 12s 690ms/step - loss: 0.0963 - accuracy: 0.9617 - val_loss: 0.0282 - val_accuracy: 0.9891\n",
            "Epoch 88/100\n",
            "17/17 [==============================] - 11s 660ms/step - loss: 0.0647 - accuracy: 0.9763 - val_loss: 0.0282 - val_accuracy: 0.9927\n",
            "Epoch 89/100\n",
            "17/17 [==============================] - 12s 679ms/step - loss: 0.0615 - accuracy: 0.9836 - val_loss: 0.0282 - val_accuracy: 0.9927\n",
            "Epoch 90/100\n",
            "17/17 [==============================] - 12s 688ms/step - loss: 0.0473 - accuracy: 0.9872 - val_loss: 0.0283 - val_accuracy: 0.9927\n",
            "Epoch 91/100\n",
            "17/17 [==============================] - 11s 648ms/step - loss: 0.0598 - accuracy: 0.9891 - val_loss: 0.0282 - val_accuracy: 0.9927\n",
            "\n",
            "Epoch 00091: ReduceLROnPlateau reducing learning rate to 1.0000000664932204e-18.\n",
            "Epoch 92/100\n",
            "17/17 [==============================] - 11s 630ms/step - loss: 0.0727 - accuracy: 0.9763 - val_loss: 0.0282 - val_accuracy: 0.9927\n",
            "Epoch 93/100\n",
            "17/17 [==============================] - 11s 630ms/step - loss: 0.0619 - accuracy: 0.9891 - val_loss: 0.0285 - val_accuracy: 0.9891\n",
            "Epoch 94/100\n",
            "17/17 [==============================] - 11s 633ms/step - loss: 0.0558 - accuracy: 0.9745 - val_loss: 0.0281 - val_accuracy: 0.9927\n",
            "Epoch 95/100\n",
            "17/17 [==============================] - 11s 671ms/step - loss: 0.0570 - accuracy: 0.9854 - val_loss: 0.0282 - val_accuracy: 0.9927\n",
            "Epoch 96/100\n",
            "17/17 [==============================] - 12s 674ms/step - loss: 0.0646 - accuracy: 0.9763 - val_loss: 0.0283 - val_accuracy: 0.9891\n",
            "\n",
            "Epoch 00096: ReduceLROnPlateau reducing learning rate to 1.000000045813705e-19.\n",
            "Epoch 97/100\n",
            "17/17 [==============================] - 11s 639ms/step - loss: 0.0723 - accuracy: 0.9836 - val_loss: 0.0284 - val_accuracy: 0.9891\n",
            "Epoch 98/100\n",
            "17/17 [==============================] - 11s 638ms/step - loss: 0.0634 - accuracy: 0.9818 - val_loss: 0.0285 - val_accuracy: 0.9891\n",
            "Epoch 99/100\n",
            "17/17 [==============================] - 11s 622ms/step - loss: 0.0766 - accuracy: 0.9727 - val_loss: 0.0282 - val_accuracy: 0.9927\n",
            "Epoch 100/100\n",
            "17/17 [==============================] - 11s 633ms/step - loss: 0.0722 - accuracy: 0.9709 - val_loss: 0.0281 - val_accuracy: 0.9927\n"
          ],
          "name": "stdout"
        },
        {
          "output_type": "stream",
          "text": [
            "/usr/local/lib/python3.7/dist-packages/tensorflow/python/keras/engine/training.py:2001: UserWarning: `Model.predict_generator` is deprecated and will be removed in a future version. Please use `Model.predict`, which supports generators.\n",
            "  warnings.warn('`Model.predict_generator` is deprecated and '\n"
          ],
          "name": "stderr"
        },
        {
          "output_type": "stream",
          "text": [
            "9/9 [==============================] - 3s 215ms/step\n",
            "***Performance on Validation data***\n",
            "Accuracy  : 0.9927007299270073\n",
            "Precision : 0.9927007299270073\n",
            "f1Score : 0.9927007299270073\n",
            "[[120   1]\n",
            " [  1 152]]\n",
            "9/9 [==============================] - 2s 227ms/step - loss: 0.0281 - accuracy: 0.9927\n"
          ],
          "name": "stdout"
        },
        {
          "output_type": "display_data",
          "data": {
            "image/png": "[encoded data removed]",
            "text/plain": [
              "<Figure size 864x288 with 2 Axes>"
            ]
          },
          "metadata": {
            "tags": [],
            "needs_background": "light"
          }
        },
        {
          "output_type": "display_data",
          "data": {
            "image/png": "[encoded data removed]",
            "text/plain": [
              "<Figure size 864x288 with 2 Axes>"
            ]
          },
          "metadata": {
            "tags": [],
            "needs_background": "light"
          }
        },
        {
          "output_type": "display_data",
          "data": {
            "image/png": "[encoded data removed]",
            "text/plain": [
              "<Figure size 864x288 with 2 Axes>"
            ]
          },
          "metadata": {
            "tags": [],
            "needs_background": "light"
          }
        }
      ]
    },
    {
      "cell_type": "markdown",
      "metadata": {
        "id": "gnGOWK3nHiLF"
      },
      "source": [
        "### Salvar Modelo\n",
        "\n",
        "Salvar o modelo treinado para que seja possivel verificar se o modelo classifica corretamente a partir do conjunto de teste e ser utilizado em uma aplicação"
      ]
    },
    {
      "cell_type": "code",
      "metadata": {
        "colab": {
          "base_uri": "https://localhost:8080/"
        },
        "id": "Iim1gmZ5Y2ov",
        "outputId": "02957b11-3bcd-4282-cd77-1eb592cd7074"
      },
      "source": [
        "model.save(\"/content/drive/MyDrive/COVID/COVID/CODIGOS/conjuntoImagem/resnetMISTO.h5\")\n",
        "model.save_weights(\"/content/drive/MyDrive/COVID/COVID/CODIGOS/conjuntoImagem/resnetCANCER_weights_MISTO.hdf5\")"
      ],
      "execution_count": null,
      "outputs": [
        {
          "output_type": "stream",
          "text": [
            "/usr/local/lib/python3.7/dist-packages/tensorflow/python/keras/utils/generic_utils.py:497: CustomMaskWarning: Custom mask layers require a config and must override get_config. When loading, the custom mask layer must be passed to the custom_objects argument.\n",
            "  category=CustomMaskWarning)\n"
          ],
          "name": "stderr"
        }
      ]
    },
    {
      "cell_type": "markdown",
      "metadata": {
        "id": "OnZidXFrHj-S"
      },
      "source": [
        "#Predição\n",
        "\n",
        "Carregar o modelo de treinamento para a verificação da generalização a partir do conjunto de teste"
      ]
    },
    {
      "cell_type": "code",
      "metadata": {
        "collapsed": true,
        "id": "rCqmdGR1szLR"
      },
      "source": [
        "# Load saved model\n",
        "model = load_model('/content/drive/MyDrive/COVID/COVID/CODIGOS/conjuntoImagem/resnetMISTO.h5')"
      ],
      "execution_count": null,
      "outputs": []
    },
    {
      "cell_type": "markdown",
      "metadata": {
        "id": "-fdLaDNXB6vl"
      },
      "source": [
        "Visualização do conjunto de teste"
      ]
    },
    {
      "cell_type": "code",
      "metadata": {
        "colab": {
          "base_uri": "https://localhost:8080/",
          "height": 419
        },
        "id": "0mchw0SxWdU1",
        "outputId": "54b654e7-a4ba-46b4-93b7-281d43ed5064"
      },
      "source": [
        "test_path ='/content/drive/MyDrive/COVID/COVID/CODIGOS/conjuntoImagem/The IQ-OTHNCCD lung cancer dataset/The IQ-OTHNCCD lung cancer dataset/test'\n",
        "\n",
        "\n",
        "test = []\n",
        "for category_id, category in enumerate(CATEGORIES):\n",
        "    for file in os.listdir(os.path.join(test_path, category)):\n",
        "        test.append(['{}/{}'.format(category, file), category_id, category])\n",
        "test = pd.DataFrame(test, columns=['file', 'category_id', 'category'])\n",
        "test.shape\n",
        "test"
      ],
      "execution_count": null,
      "outputs": [
        {
          "output_type": "execute_result",
          "data": {
            "text/html": [
              "<div>\n",
              "<style scoped>\n",
              "    .dataframe tbody tr th:only-of-type {\n",
              "        vertical-align: middle;\n",
              "    }\n",
              "\n",
              "    .dataframe tbody tr th {\n",
              "        vertical-align: top;\n",
              "    }\n",
              "\n",
              "    .dataframe thead th {\n",
              "        text-align: right;\n",
              "    }\n",
              "</style>\n",
              "<table border=\"1\" class=\"dataframe\">\n",
              "  <thead>\n",
              "    <tr style=\"text-align: right;\">\n",
              "      <th></th>\n",
              "      <th>file</th>\n",
              "      <th>category_id</th>\n",
              "      <th>category</th>\n",
              "    </tr>\n",
              "  </thead>\n",
              "  <tbody>\n",
              "    <tr>\n",
              "      <th>0</th>\n",
              "      <td>Malignant cases/Malignant case (103).jpg</td>\n",
              "      <td>0</td>\n",
              "      <td>Malignant cases</td>\n",
              "    </tr>\n",
              "    <tr>\n",
              "      <th>1</th>\n",
              "      <td>Malignant cases/Malignant case (10).jpg</td>\n",
              "      <td>0</td>\n",
              "      <td>Malignant cases</td>\n",
              "    </tr>\n",
              "    <tr>\n",
              "      <th>2</th>\n",
              "      <td>Malignant cases/Malignant case (1).jpg</td>\n",
              "      <td>0</td>\n",
              "      <td>Malignant cases</td>\n",
              "    </tr>\n",
              "    <tr>\n",
              "      <th>3</th>\n",
              "      <td>Malignant cases/Malignant case (109).jpg</td>\n",
              "      <td>0</td>\n",
              "      <td>Malignant cases</td>\n",
              "    </tr>\n",
              "    <tr>\n",
              "      <th>4</th>\n",
              "      <td>Malignant cases/Malignant case (118).jpg</td>\n",
              "      <td>0</td>\n",
              "      <td>Malignant cases</td>\n",
              "    </tr>\n",
              "    <tr>\n",
              "      <th>...</th>\n",
              "      <td>...</td>\n",
              "      <td>...</td>\n",
              "      <td>...</td>\n",
              "    </tr>\n",
              "    <tr>\n",
              "      <th>253</th>\n",
              "      <td>Covid/Covid (1017).png</td>\n",
              "      <td>1</td>\n",
              "      <td>Covid</td>\n",
              "    </tr>\n",
              "    <tr>\n",
              "      <th>254</th>\n",
              "      <td>Covid/Covid (1124).png</td>\n",
              "      <td>1</td>\n",
              "      <td>Covid</td>\n",
              "    </tr>\n",
              "    <tr>\n",
              "      <th>255</th>\n",
              "      <td>Covid/Covid (105).png</td>\n",
              "      <td>1</td>\n",
              "      <td>Covid</td>\n",
              "    </tr>\n",
              "    <tr>\n",
              "      <th>256</th>\n",
              "      <td>Covid/Covid (1015).png</td>\n",
              "      <td>1</td>\n",
              "      <td>Covid</td>\n",
              "    </tr>\n",
              "    <tr>\n",
              "      <th>257</th>\n",
              "      <td>Covid/Covid (1).png</td>\n",
              "      <td>1</td>\n",
              "      <td>Covid</td>\n",
              "    </tr>\n",
              "  </tbody>\n",
              "</table>\n",
              "<p>258 rows × 3 columns</p>\n",
              "</div>"
            ],
            "text/plain": [
              "                                         file  category_id         category\n",
              "0    Malignant cases/Malignant case (103).jpg            0  Malignant cases\n",
              "1     Malignant cases/Malignant case (10).jpg            0  Malignant cases\n",
              "2      Malignant cases/Malignant case (1).jpg            0  Malignant cases\n",
              "3    Malignant cases/Malignant case (109).jpg            0  Malignant cases\n",
              "4    Malignant cases/Malignant case (118).jpg            0  Malignant cases\n",
              "..                                        ...          ...              ...\n",
              "253                    Covid/Covid (1017).png            1            Covid\n",
              "254                    Covid/Covid (1124).png            1            Covid\n",
              "255                     Covid/Covid (105).png            1            Covid\n",
              "256                    Covid/Covid (1015).png            1            Covid\n",
              "257                       Covid/Covid (1).png            1            Covid\n",
              "\n",
              "[258 rows x 3 columns]"
            ]
          },
          "metadata": {
            "tags": []
          },
          "execution_count": 15
        }
      ]
    },
    {
      "cell_type": "markdown",
      "metadata": {
        "id": "gXIglriFB-M_"
      },
      "source": [
        "Insere o conjunto de teste no modelo de treinamente e com isso visualizar o resultado final, neste caso é uma simulação de uma caso real"
      ]
    },
    {
      "cell_type": "code",
      "metadata": {
        "id": "DtrWW8eUBCgr",
        "colab": {
          "base_uri": "https://localhost:8080/"
        },
        "outputId": "732de66e-3224-4e63-80c1-498b305bda6e"
      },
      "source": [
        "test_datagen = ImageDataGenerator(rescale=1./255)\n",
        "print(\"==============TEST RESULTS============\")\n",
        "\n",
        "\n",
        "test_generator = test_datagen.flow_from_dataframe(dataframe=test,\n",
        "                                                  directory=test_path,\n",
        "                                                x_col=\"file\",\n",
        "                                                y_col='category',\n",
        "                                                batch_size=10,\n",
        "                                                shuffle=False,\n",
        "                                                class_mode='categorical',\n",
        "                                                target_size=(224, 224),\n",
        "                                                validate_filenames=False)\n",
        "\n",
        "predictions = model.predict(test_generator, verbose=1)\n",
        "yPredictions = np.argmax(predictions, axis=1)\n",
        "true_classes = test_generator.classes\n",
        "\n",
        "testAcc,testPrec, testFScore = my_metrics(true_classes, yPredictions)\n",
        "model.save('/content/drive/MyDrive/COVID/COVID/CODIGOS/conjuntoImagem/resnetMISTO_teste.h5')"
      ],
      "execution_count": null,
      "outputs": [
        {
          "output_type": "stream",
          "text": [
            "==============TEST RESULTS============\n",
            "Found 258 non-validated image filenames belonging to 2 classes.\n",
            "26/26 [==============================] - 71s 3s/step\n",
            "Accuracy  : 0.9922480620155039\n",
            "Precision : 0.992397137745975\n",
            "f1Score : 0.992260686530856\n",
            "[[154   2]\n",
            " [  0 102]]\n"
          ],
          "name": "stdout"
        },
        {
          "output_type": "stream",
          "text": [
            "/usr/local/lib/python3.7/dist-packages/tensorflow/python/keras/utils/generic_utils.py:497: CustomMaskWarning: Custom mask layers require a config and must override get_config. When loading, the custom mask layer must be passed to the custom_objects argument.\n",
            "  category=CustomMaskWarning)\n"
          ],
          "name": "stderr"
        }
      ]
    },
    {
      "cell_type": "markdown",
      "metadata": {
        "id": "Nv8rD62JC9fj"
      },
      "source": [
        "##Ensemble"
      ]
    },
    {
      "cell_type": "code",
      "metadata": {
        "id": "07qW2C8jvCsA"
      },
      "source": [
        "'''model1 = load_model('/content/drive/MyDrive/COVID/COVID/CODIGOS/modelo/callback_weightsIN.hdf5')\n",
        "model2 = load_model('/content/drive/MyDrive/COVID/COVID/CODIGOS/modelo/callback_weightsRESNET.hdf5')\n",
        "model3 = load_model('/content/drive/MyDrive/COVID/COVID/CODIGOS/modelo/callback_weightsVGG.hdf5')\n",
        "model4 = load_model('/content/drive/MyDrive/COVID/COVID/CODIGOS/modelo/callback_weightsVGG.hdf5')\n",
        "\n",
        "models = [model1, model2, model3, model4]\n",
        "models = [model1, model2, model3, model4]\n",
        "preds1 = [model.predict(test_generator, verbose=1) for model in models]\n",
        "preds1 = np.array(preds1)\n",
        "true_classes = test_generator.classes'''"
      ],
      "execution_count": null,
      "outputs": []
    },
    {
      "cell_type": "code",
      "metadata": {
        "id": "erxP1kY-wKuU"
      },
      "source": [
        "'''\n",
        "df = pd.DataFrame([])\n",
        "\n",
        "for w1 in range(0, 5):\n",
        "    for w2 in range(0,5):\n",
        "        for w3 in range(0,5):\n",
        "            for w4 in range(0,5):\n",
        "                wts = [w1/10., w2/10., w3/10., w4/10.]\n",
        "                wted_preds1 = np.tensordot(preds1, wts, axes=((0),(0)))\n",
        "                wetd_ensemble_pred = np.argmax(wted_preds1, axis=1)\n",
        "                weighted_accuracy1 = accuracy_score(true_classes, wetd_ensemble_pred)\n",
        "                df= df.append(pd.DataFrame({'w1': wts[0], 'w2': wts[1], 'w3': wts[2], 'w4': wts[3], 'acc': weighted_accuracy1*100}, index=[0]), ignore_index=True)\n",
        "\n",
        "                              \n",
        "max_acc_row = df.iloc[df['acc'].idxmax()]\n",
        "print('max acc: ', max_acc_row[0], 'w1: ', max_acc_row[1], 'w2: ', max_acc_row[2], 'w3: ', max_acc_row[3], 'w4: ', max_acc_row[4])\n",
        "\n",
        "'''"
      ],
      "execution_count": null,
      "outputs": []
    },
    {
      "cell_type": "code",
      "metadata": {
        "id": "cNZfNdAlyx5g"
      },
      "source": [
        "'''testAcc,testPrec, testFScore = my_metrics(true_classes, wetd_ensemble_pred)'''"
      ],
      "execution_count": null,
      "outputs": []
    }
  ]
}